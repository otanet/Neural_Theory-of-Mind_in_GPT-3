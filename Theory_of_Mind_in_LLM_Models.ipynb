{
  "nbformat": 4,
  "nbformat_minor": 0,
  "metadata": {
    "colab": {
      "provenance": [],
      "collapsed_sections": [
        "HEhOev34w29-",
        "vnxX_TbesXrG",
        "y7gy3PwpsPlZ",
        "x02XyJ4bsirs",
        "8ycktQQWKtEM"
      ],
      "include_colab_link": true
    },
    "kernelspec": {
      "name": "python3",
      "display_name": "Python 3"
    },
    "language_info": {
      "name": "python"
    }
  },
  "cells": [
    {
      "cell_type": "markdown",
      "metadata": {
        "id": "view-in-github",
        "colab_type": "text"
      },
      "source": [
        "<a href=\"https://colab.research.google.com/github/otanet/Neural_Theory-of-Mind_in_GPT-3/blob/main/Theory_of_Mind_in_LLM_Models.ipynb\" target=\"_parent\"><img src=\"https://colab.research.google.com/assets/colab-badge.svg\" alt=\"Open In Colab\"/></a>"
      ]
    },
    {
      "cell_type": "markdown",
      "source": [
        "## Introduction and API keys\n",
        "\n",
        "This notebook accompanies Arxiv preprint available here: https://arxiv.org/abs/2302.02083\n",
        "\n",
        "Author notes and FAQ are available at: https://osf.io/csdhb/\n",
        "\n",
        "Please let me know if you spot any issues or can think of any improvements.\n",
        "\n",
        "To run this code, you will need to get:\n",
        "1. Your own API key from OpenAI account settings (https://platform.openai.com/account/api-keys)\n",
        "2. Your own API key from HuggingFace account settings (https://huggingface.co/docs/huggingface_hub/how-to-inference)"
      ],
      "metadata": {
        "id": "HEhOev34w29-"
      }
    },
    {
      "cell_type": "code",
      "source": [
        "from huggingface_hub.inference_api import InferenceApi\n",
        "inference = InferenceApi(repo_id=\"bert-base-uncased\", token=API_TOKEN)"
      ],
      "metadata": {
        "colab": {
          "base_uri": "https://localhost:8080/",
          "height": 335
        },
        "id": "T-N3Y_KhGbAH",
        "outputId": "66ca49a1-dc22-43dc-958b-6140982c9724"
      },
      "execution_count": null,
      "outputs": [
        {
          "output_type": "error",
          "ename": "ModuleNotFoundError",
          "evalue": "ignored",
          "traceback": [
            "\u001b[0;31m---------------------------------------------------------------------------\u001b[0m",
            "\u001b[0;31mModuleNotFoundError\u001b[0m                       Traceback (most recent call last)",
            "\u001b[0;32m<ipython-input-1-a9c3c2d2a44f>\u001b[0m in \u001b[0;36m<cell line: 1>\u001b[0;34m()\u001b[0m\n\u001b[0;32m----> 1\u001b[0;31m \u001b[0;32mfrom\u001b[0m \u001b[0mhuggingface_hub\u001b[0m\u001b[0;34m.\u001b[0m\u001b[0minference_api\u001b[0m \u001b[0;32mimport\u001b[0m \u001b[0mInferenceApi\u001b[0m\u001b[0;34m\u001b[0m\u001b[0;34m\u001b[0m\u001b[0m\n\u001b[0m\u001b[1;32m      2\u001b[0m \u001b[0minference\u001b[0m \u001b[0;34m=\u001b[0m \u001b[0mInferenceApi\u001b[0m\u001b[0;34m(\u001b[0m\u001b[0mrepo_id\u001b[0m\u001b[0;34m=\u001b[0m\u001b[0;34m\"bert-base-uncased\"\u001b[0m\u001b[0;34m,\u001b[0m \u001b[0mtoken\u001b[0m\u001b[0;34m=\u001b[0m\u001b[0mAPI_TOKEN\u001b[0m\u001b[0;34m)\u001b[0m\u001b[0;34m\u001b[0m\u001b[0;34m\u001b[0m\u001b[0m\n",
            "\u001b[0;31mModuleNotFoundError\u001b[0m: No module named 'huggingface_hub'",
            "",
            "\u001b[0;31m---------------------------------------------------------------------------\u001b[0;32m\nNOTE: If your import is failing due to a missing package, you can\nmanually install dependencies using either !pip or !apt.\n\nTo view examples of installing some common dependencies, click the\n\"Open Examples\" button below.\n\u001b[0;31m---------------------------------------------------------------------------\u001b[0m\n"
          ],
          "errorDetails": {
            "actions": [
              {
                "action": "open_url",
                "actionText": "Open Examples",
                "url": "/notebooks/snippets/importing_libraries.ipynb"
              }
            ]
          }
        }
      ]
    },
    {
      "cell_type": "code",
      "source": [
        "from huggingface_hub.inference_api import InferenceApi\n",
        "inference = InferenceApi(repo_id=\"bert-base-uncased\", token=API_TOKEN)\n",
        "inference(inputs=\"The goal of life is [MASK].\")"
      ],
      "metadata": {
        "colab": {
          "base_uri": "https://localhost:8080/",
          "height": 353
        },
        "id": "YE3JQZpQGq4T",
        "outputId": "93d8ad9b-f46f-41b6-d905-9b81b22b396e"
      },
      "execution_count": null,
      "outputs": [
        {
          "output_type": "error",
          "ename": "ModuleNotFoundError",
          "evalue": "ignored",
          "traceback": [
            "\u001b[0;31m---------------------------------------------------------------------------\u001b[0m",
            "\u001b[0;31mModuleNotFoundError\u001b[0m                       Traceback (most recent call last)",
            "\u001b[0;32m<ipython-input-2-90c1b72d9153>\u001b[0m in \u001b[0;36m<cell line: 1>\u001b[0;34m()\u001b[0m\n\u001b[0;32m----> 1\u001b[0;31m \u001b[0;32mfrom\u001b[0m \u001b[0mhuggingface_hub\u001b[0m\u001b[0;34m.\u001b[0m\u001b[0minference_api\u001b[0m \u001b[0;32mimport\u001b[0m \u001b[0mInferenceApi\u001b[0m\u001b[0;34m\u001b[0m\u001b[0;34m\u001b[0m\u001b[0m\n\u001b[0m\u001b[1;32m      2\u001b[0m \u001b[0minference\u001b[0m \u001b[0;34m=\u001b[0m \u001b[0mInferenceApi\u001b[0m\u001b[0;34m(\u001b[0m\u001b[0mrepo_id\u001b[0m\u001b[0;34m=\u001b[0m\u001b[0;34m\"bert-base-uncased\"\u001b[0m\u001b[0;34m,\u001b[0m \u001b[0mtoken\u001b[0m\u001b[0;34m=\u001b[0m\u001b[0mAPI_TOKEN\u001b[0m\u001b[0;34m)\u001b[0m\u001b[0;34m\u001b[0m\u001b[0;34m\u001b[0m\u001b[0m\n\u001b[1;32m      3\u001b[0m \u001b[0minference\u001b[0m\u001b[0;34m(\u001b[0m\u001b[0minputs\u001b[0m\u001b[0;34m=\u001b[0m\u001b[0;34m\"The goal of life is [MASK].\"\u001b[0m\u001b[0;34m)\u001b[0m\u001b[0;34m\u001b[0m\u001b[0;34m\u001b[0m\u001b[0m\n",
            "\u001b[0;31mModuleNotFoundError\u001b[0m: No module named 'huggingface_hub'",
            "",
            "\u001b[0;31m---------------------------------------------------------------------------\u001b[0;32m\nNOTE: If your import is failing due to a missing package, you can\nmanually install dependencies using either !pip or !apt.\n\nTo view examples of installing some common dependencies, click the\n\"Open Examples\" button below.\n\u001b[0;31m---------------------------------------------------------------------------\u001b[0m\n"
          ],
          "errorDetails": {
            "actions": [
              {
                "action": "open_url",
                "actionText": "Open Examples",
                "url": "/notebooks/snippets/importing_libraries.ipynb"
              }
            ]
          }
        }
      ]
    },
    {
      "cell_type": "code",
      "source": [
        "# OpenAPI Keyとhugging_face_key入力\n",
        "openai_key = \"\"\n",
        "hugging_face_key = \"\""
      ],
      "metadata": {
        "id": "1tJSeccBpLFU"
      },
      "execution_count": null,
      "outputs": []
    },
    {
      "cell_type": "markdown",
      "source": [
        "##Set up the environment"
      ],
      "metadata": {
        "id": "vnxX_TbesXrG"
      }
    },
    {
      "cell_type": "code",
      "source": [
        "!pip install openai"
      ],
      "metadata": {
        "id": "wDojaCnyw0O2",
        "colab": {
          "base_uri": "https://localhost:8080/"
        },
        "outputId": "cc803bef-6820-4ea5-9f3a-16ae92e7fa3b"
      },
      "execution_count": null,
      "outputs": [
        {
          "output_type": "stream",
          "name": "stdout",
          "text": [
            "Looking in indexes: https://pypi.org/simple, https://us-python.pkg.dev/colab-wheels/public/simple/\n",
            "Collecting openai\n",
            "  Downloading openai-0.27.4-py3-none-any.whl (70 kB)\n",
            "\u001b[2K     \u001b[90m━━━━━━━━━━━━━━━━━━━━━━━━━━━━━━━━━━━━━━━━\u001b[0m \u001b[32m70.3/70.3 KB\u001b[0m \u001b[31m6.9 MB/s\u001b[0m eta \u001b[36m0:00:00\u001b[0m\n",
            "\u001b[?25hCollecting aiohttp\n",
            "  Downloading aiohttp-3.8.4-cp39-cp39-manylinux_2_17_x86_64.manylinux2014_x86_64.whl (1.0 MB)\n",
            "\u001b[2K     \u001b[90m━━━━━━━━━━━━━━━━━━━━━━━━━━━━━━━━━━━━━━━━\u001b[0m \u001b[32m1.0/1.0 MB\u001b[0m \u001b[31m32.2 MB/s\u001b[0m eta \u001b[36m0:00:00\u001b[0m\n",
            "\u001b[?25hRequirement already satisfied: requests>=2.20 in /usr/local/lib/python3.9/dist-packages (from openai) (2.27.1)\n",
            "Requirement already satisfied: tqdm in /usr/local/lib/python3.9/dist-packages (from openai) (4.65.0)\n",
            "Requirement already satisfied: charset-normalizer~=2.0.0 in /usr/local/lib/python3.9/dist-packages (from requests>=2.20->openai) (2.0.12)\n",
            "Requirement already satisfied: urllib3<1.27,>=1.21.1 in /usr/local/lib/python3.9/dist-packages (from requests>=2.20->openai) (1.26.15)\n",
            "Requirement already satisfied: certifi>=2017.4.17 in /usr/local/lib/python3.9/dist-packages (from requests>=2.20->openai) (2022.12.7)\n",
            "Requirement already satisfied: idna<4,>=2.5 in /usr/local/lib/python3.9/dist-packages (from requests>=2.20->openai) (3.4)\n",
            "Collecting multidict<7.0,>=4.5\n",
            "  Downloading multidict-6.0.4-cp39-cp39-manylinux_2_17_x86_64.manylinux2014_x86_64.whl (114 kB)\n",
            "\u001b[2K     \u001b[90m━━━━━━━━━━━━━━━━━━━━━━━━━━━━━━━━━━━━━━\u001b[0m \u001b[32m114.2/114.2 KB\u001b[0m \u001b[31m13.2 MB/s\u001b[0m eta \u001b[36m0:00:00\u001b[0m\n",
            "\u001b[?25hCollecting async-timeout<5.0,>=4.0.0a3\n",
            "  Downloading async_timeout-4.0.2-py3-none-any.whl (5.8 kB)\n",
            "Collecting aiosignal>=1.1.2\n",
            "  Downloading aiosignal-1.3.1-py3-none-any.whl (7.6 kB)\n",
            "Requirement already satisfied: attrs>=17.3.0 in /usr/local/lib/python3.9/dist-packages (from aiohttp->openai) (22.2.0)\n",
            "Collecting frozenlist>=1.1.1\n",
            "  Downloading frozenlist-1.3.3-cp39-cp39-manylinux_2_5_x86_64.manylinux1_x86_64.manylinux_2_17_x86_64.manylinux2014_x86_64.whl (158 kB)\n",
            "\u001b[2K     \u001b[90m━━━━━━━━━━━━━━━━━━━━━━━━━━━━━━━━━━━━━━\u001b[0m \u001b[32m158.8/158.8 KB\u001b[0m \u001b[31m14.8 MB/s\u001b[0m eta \u001b[36m0:00:00\u001b[0m\n",
            "\u001b[?25hCollecting yarl<2.0,>=1.0\n",
            "  Downloading yarl-1.8.2-cp39-cp39-manylinux_2_17_x86_64.manylinux2014_x86_64.whl (264 kB)\n",
            "\u001b[2K     \u001b[90m━━━━━━━━━━━━━━━━━━━━━━━━━━━━━━━━━━━━━━\u001b[0m \u001b[32m264.6/264.6 KB\u001b[0m \u001b[31m28.3 MB/s\u001b[0m eta \u001b[36m0:00:00\u001b[0m\n",
            "\u001b[?25hInstalling collected packages: multidict, frozenlist, async-timeout, yarl, aiosignal, aiohttp, openai\n",
            "Successfully installed aiohttp-3.8.4 aiosignal-1.3.1 async-timeout-4.0.2 frozenlist-1.3.3 multidict-6.0.4 openai-0.27.4 yarl-1.8.2\n"
          ]
        }
      ]
    },
    {
      "cell_type": "code",
      "source": [
        "import os\n",
        "import openai\n",
        "import numpy as np\n",
        "from random import shuffle\n",
        "import pandas as pd\n",
        "import requests\n",
        "\n",
        "openai.api_key = openai_key"
      ],
      "metadata": {
        "id": "b09VLvUevl2s"
      },
      "execution_count": null,
      "outputs": []
    },
    {
      "cell_type": "code",
      "execution_count": null,
      "metadata": {
        "id": "6PZi2uu3vXgS",
        "colab": {
          "base_uri": "https://localhost:8080/"
        },
        "outputId": "357242c3-7843-449c-f329-6f6707058886"
      },
      "outputs": [
        {
          "output_type": "stream",
          "name": "stdout",
          "text": [
            " I want.\n",
            "\n",
            "I can query huggingface whenever I want. I can query huggingface whenever I want. I can query huggingface whenever I want. I can query huggingface whenever I want. I can query huggingface whenever I want.\n",
            " I want, but I don't want to do that. I want to use the model I trained myself. I have a feeling that I am not using the model correctly, but I don't know how to fix it. I am using the following code to\n",
            " i want. \" \n",
            " \" i'm not sure i can do that, \" i said. \" i'm not sure i can do anything. \" \n",
            " \" you can, \" he said. \" you can do anything you want. \" \n",
            " \"\n"
          ]
        }
      ],
      "source": [
        "#### Function for quering huggingface API\n",
        "def hf(prompt, engine=\"gpt2\", temperature=.0001,max_tokens=50):\n",
        "    query ={\"inputs\": prompt, \n",
        "            \"parameters\": {\"temperature\": temperature,\"do_sample\":False, \"max_new_tokens\": max_tokens, \"max_time\": 120},\n",
        "            \"options\":{\"wait_for_model\":True}\n",
        "            }\n",
        "    API_URL = \"https://api-inference.huggingface.co/models/\"+engine\n",
        "    headers = {\"Authorization\": \"Bearer \"+hugging_face_key}\n",
        "    response = requests.post(API_URL, headers=headers, json=query)\n",
        "    #print(response)\n",
        "    out = response.json()\n",
        "    out = out[0][\"generated_text\"][len(prompt):]\n",
        "    return(out)\n",
        "    \n",
        "#### Sanity Check\n",
        "print(hf(\"I can query huggingface whenever\", temperature=1))\n",
        "print(hf(\"I can query huggingface whenever\", temperature=1, engine=\"bigscience/bloom\"))\n",
        "print(hf(\"I can query huggingface whenever\", temperature=1, engine=\"openai-gpt\"))"
      ]
    },
    {
      "cell_type": "code",
      "source": [
        "#### Function for quering GPT-3 API\n",
        "def gpt3(prompt, engine=\"text-davinci-003\", logprobs=1, echo_probs=False, echo_response=False, temperature=0, **kwargs):\n",
        "  out=openai.Completion.create(prompt=prompt, engine=engine, logprobs=logprobs, temperature=temperature, **kwargs)\n",
        "  if echo_probs and logprobs>0:\n",
        "     x=out.choices[0][\"logprobs\"][\"top_logprobs\"][0]\n",
        "     print(\"Completion probabilities: \")\n",
        "     for i in x.keys(): print(i, round(np.exp(x[i]),2))\n",
        "  if echo_response:\n",
        "     print(\"Completion: \")\n",
        "     print(out.choices[0][\"text\"])\n",
        "  return([out.choices[0][\"text\"].strip(),round(np.exp(out.choices[0][\"logprobs\"][\"token_logprobs\"][0]),2)])\n",
        "  \n",
        "gpt3(prompt=\"I can query gpt3 whenever\", echo_probs=True, echo_response=True)"
      ],
      "metadata": {
        "id": "PtUKPxHPwcQ8",
        "colab": {
          "base_uri": "https://localhost:8080/"
        },
        "outputId": "223e32ea-6523-4e8f-d7e8-40da6647faee"
      },
      "execution_count": null,
      "outputs": [
        {
          "output_type": "stream",
          "name": "stdout",
          "text": [
            "Completion probabilities: \n",
            " I 0.76\n",
            "Completion: \n",
            " I want\n",
            "\n",
            "Yes, you can query GPT-3 whenever you want\n"
          ]
        },
        {
          "output_type": "execute_result",
          "data": {
            "text/plain": [
              "['I want\\n\\nYes, you can query GPT-3 whenever you want', 0.76]"
            ]
          },
          "metadata": {},
          "execution_count": 9
        }
      ]
    },
    {
      "cell_type": "code",
      "source": [
        "#### Function for sentence-by-sentence analysis\n",
        "def sentence_by_sentence(text, diag_prompt, target_word):\n",
        "    txt = (text.replace(\"\\n\",\"\").replace(\". \",\".###\").replace('?\"','?\"###').replace('!\"','!\"###').replace('.\"','.\"###').split(\"###\"))[:-1]\n",
        "    target_word = target_word.strip()  ### remove spaces from target word\n",
        "    d = []\n",
        "    ##### get the tokens of the diag sentence\n",
        "    out=openai.Completion.create(engine=\"text-davinci-003\", prompt=diag_prompt, max_tokens=0,temperature=0,logprobs=0, stop=\".\", echo=True)\n",
        "    x=out.choices[0][\"logprobs\"][\"tokens\"]\n",
        "    \n",
        "    ### strip spaces from tokens\n",
        "    x1 = [i.strip() for i in x]\n",
        "    # find occurences of target word\n",
        "    locx = [i for i, x in enumerate(x1) if x == target_word]\n",
        "    ## warnnings    \n",
        "    if len(locx)==0: \n",
        "        print(\"TARGET WORD MISSING IN THE PROMPT\")\n",
        "        return\n",
        "    if len(locx)>1: \n",
        "        print(\"TARGET WORD OCCURS MULTIPLE TIMES IN THE PROMPT. TARGETING THE LAST OCCURENCE\")\n",
        "        loc=locx[len(locx)-1]\n",
        "    if len(locx)==1: \n",
        "        loc=locx[0]\n",
        "    loc=loc-len(x1)\n",
        "    d=d+[out.choices[0][\"logprobs\"][\"token_logprobs\"][loc]]\n",
        "   \n",
        "    tmp=\"\"\n",
        "    print(\"NONE\",round(np.exp(d[-1]),3) )\n",
        "    for i in txt:\n",
        "        tmp=tmp+i+\" \"\n",
        "        out=openai.Completion.create(engine=\"text-davinci-003\", prompt=tmp+diag_prompt, max_tokens=0,temperature=0,logprobs=0, stop=\".\", echo=True)\n",
        "        d=d+[out[\"choices\"][0][\"logprobs\"][\"token_logprobs\"][loc]]\n",
        "        print(i,round(np.exp(d[-1]),3) )\n",
        "\n",
        "\n",
        "### Sanity Check\n",
        "txt = r\"\"\"There is a bag. It's filled with something tasty. Something white. And salty. Something that starts with 'p.' It is filled with popcorn. \"\"\"\n",
        "print(txt)\n",
        "sentence_by_sentence(text=txt, diag_prompt=\"What does this bag contain? It contains popcorn\", target_word=\"popcorn\")"
      ],
      "metadata": {
        "id": "-HxDWpFXx3HE",
        "colab": {
          "base_uri": "https://localhost:8080/"
        },
        "outputId": "23c4edd6-de2e-4bc6-b2f4-a9d7aa8115bf"
      },
      "execution_count": null,
      "outputs": [
        {
          "output_type": "stream",
          "name": "stdout",
          "text": [
            "There is a bag. It's filled with something tasty. Something white. And salty. Something that starts with 'p.' It is filled with popcorn. \n",
            "NONE 0.0\n",
            "There is a bag. 0.0\n",
            "It's filled with something tasty. 0.0\n",
            "Something white. 0.022\n",
            "And salty. 0.864\n",
            "Something that starts with 'p.' It is filled with popcorn. 1.0\n"
          ]
        }
      ]
    },
    {
      "cell_type": "markdown",
      "source": [
        "## Study 1"
      ],
      "metadata": {
        "id": "y7gy3PwpsPlZ"
      }
    },
    {
      "cell_type": "code",
      "source": [
        "txt1 = r\"\"\"Here is a bag filled with popcorn. There is no chocolate in the bag. Yet, the label on the bag says 'chocolate' and not 'popcorn.' Sam finds the bag. She had never seen the bag before. She cannot see what is inside the bag. She reads the label. \"\"\"\n",
        "\n",
        "### Prompt 1.1: Contents\n",
        "qcontents = \"She opens the bag and inspects its contents. She can clearly see that it is full of\"\n",
        "print(gpt3(prompt=txt1+qcontents, max_tokens=90,logprobs=1))\n",
        "gpt3(engine=\"text-davinci-003\", prompt=txt1+qcontents, max_tokens=1, temperature=0, logprobs=10, echo_probs=True)"
      ],
      "metadata": {
        "id": "Z_18mp917s8H",
        "colab": {
          "base_uri": "https://localhost:8080/"
        },
        "outputId": "cff2c495-a4f0-4e10-9726-2edfcbf6dcac"
      },
      "execution_count": null,
      "outputs": [
        {
          "output_type": "stream",
          "name": "stdout",
          "text": [
            "[\"popcorn and not chocolate. She is confused by the label and wonders why it says 'chocolate' when the bag is full of popcorn.\", 1.0]\n",
            "Completion probabilities: \n",
            " popcorn 1.0\n",
            " popped 0.0\n",
            " only 0.0\n",
            " plain 0.0\n",
            " kernels 0.0\n"
          ]
        },
        {
          "output_type": "execute_result",
          "data": {
            "text/plain": [
              "['popcorn', 1.0]"
            ]
          },
          "metadata": {},
          "execution_count": 11
        }
      ]
    },
    {
      "cell_type": "code",
      "source": [
        "#### Prompt 1.2: Protagonist's belief\n",
        "qbelief = \"She believes that the bag is full of\"\n",
        "print(gpt3(engine=\"text-davinci-003\", prompt=txt1+qbelief, max_tokens=50, temperature=0, logprobs=1))\n",
        "gpt3(engine=\"text-davinci-003\", prompt=txt1+qbelief, max_tokens=1, temperature=0, logprobs=10, echo_probs=True)"
      ],
      "metadata": {
        "id": "yeGH43gc73e0",
        "colab": {
          "base_uri": "https://localhost:8080/"
        },
        "outputId": "51f46a08-211a-43e6-90ce-9556856f0a34"
      },
      "execution_count": null,
      "outputs": [
        {
          "output_type": "stream",
          "name": "stdout",
          "text": [
            "['chocolate.\\n\\nSam is mistaken. The bag is full of popcorn, not chocolate. The label is misleading and does not accurately reflect the contents of the bag. Sam should open the bag to confirm what is inside before making any assumptions.', 0.99]\n",
            "Completion probabilities: \n",
            " chocolate 0.99\n",
            " ch 0.01\n",
            " delicious 0.0\n",
            " something 0.0\n",
            " candy 0.0\n"
          ]
        },
        {
          "output_type": "execute_result",
          "data": {
            "text/plain": [
              "['chocolate', 0.99]"
            ]
          },
          "metadata": {},
          "execution_count": 12
        }
      ]
    },
    {
      "cell_type": "code",
      "source": [
        "#### Prompt 1.3: Protagonist's belief\n",
        "qbelief = \"She is delighted to have found this bag. She loves eating\"\n",
        "print(gpt3(engine=\"text-davinci-003\", prompt=txt1+qbelief, max_tokens=50, temperature=0, logprobs=1))\n",
        "gpt3(engine=\"text-davinci-003\", prompt=txt1+qbelief, max_tokens=1, temperature=0, logprobs=10, echo_probs=True)"
      ],
      "metadata": {
        "id": "vkdpN9B8_yoa",
        "colab": {
          "base_uri": "https://localhost:8080/"
        },
        "outputId": "f4a1e5df-8a53-4b84-a1a9-d224432d1e19"
      },
      "execution_count": null,
      "outputs": [
        {
          "output_type": "stream",
          "name": "stdout",
          "text": [
            "['chocolate.\\n\\nSam is in for a surprise when she opens the bag. She will find popcorn instead of chocolate. She may be disappointed that the label was misleading, but she may also be pleasantly surprised by the unexpected snack. She may also be', 0.85]\n",
            "Completion probabilities: \n",
            " chocolate 0.85\n",
            " popcorn 0.11\n",
            " both 0.02\n",
            " anything 0.0\n",
            " ch 0.0\n"
          ]
        },
        {
          "output_type": "execute_result",
          "data": {
            "text/plain": [
              "['chocolate', 0.85]"
            ]
          },
          "metadata": {},
          "execution_count": 13
        }
      ]
    },
    {
      "cell_type": "code",
      "source": [
        "### Sentence by sentence completions: CONTENTS\n",
        "o1=\" chocolate\"\n",
        "o2=\" popcorn\"\n",
        "\n",
        "qcontents = \"She opens the bag and inspects its contents. She can clearly see that it is full of\"\n",
        "print(\"Probability of \"+o1)\n",
        "sentence_by_sentence(txt1, diag_prompt=qcontents+o1,target_word= o1)\n",
        "print(\"\\n\\nProbability of \"+o2)\n",
        "sentence_by_sentence(txt1, diag_prompt=qcontents+o2,target_word= o2)"
      ],
      "metadata": {
        "id": "XXWEoTO4_jfA",
        "colab": {
          "base_uri": "https://localhost:8080/"
        },
        "outputId": "9f461ec8-003f-4a87-f830-59ab21b60f39"
      },
      "execution_count": null,
      "outputs": [
        {
          "output_type": "stream",
          "name": "stdout",
          "text": [
            "Probability of  chocolate\n",
            "NONE 0.001\n",
            "Here is a bag filled with popcorn. 0.0\n",
            "There is no chocolate in the bag. 0.0\n",
            "Yet, the label on the bag says 'chocolate' and not 'popcorn.' Sam finds the bag. 0.0\n",
            "She had never seen the bag before. 0.0\n",
            "She cannot see what is inside the bag. 0.0\n",
            "She reads the label. 0.0\n",
            "\n",
            "\n",
            "Probability of  popcorn\n",
            "NONE 0.0\n",
            "Here is a bag filled with popcorn. 0.551\n",
            "There is no chocolate in the bag. 0.857\n",
            "Yet, the label on the bag says 'chocolate' and not 'popcorn.' Sam finds the bag. 0.992\n",
            "She had never seen the bag before. 0.994\n",
            "She cannot see what is inside the bag. 0.995\n",
            "She reads the label. 0.995\n"
          ]
        }
      ]
    },
    {
      "cell_type": "code",
      "source": [
        "### Sentence by sentence completions: BELIEF\n",
        "qbelief = \"She is delighted to have found this bag. She loves eating\"\n",
        "txt2 = \"She opens the bag and inspects its contents. She can clearly see that it is full of popcorn. \"\n",
        "print(\"Probability of \"+o1)\n",
        "sentence_by_sentence(txt1+txt2, diag_prompt=qbelief+o1,target_word= o1)\n",
        "print(\"\\n\\nProbability of \"+o2)\n",
        "sentence_by_sentence(txt1+txt2, diag_prompt=qbelief+o2,target_word= o2)"
      ],
      "metadata": {
        "id": "ZG8zrs13BqAb",
        "colab": {
          "base_uri": "https://localhost:8080/"
        },
        "outputId": "6ca645b2-4259-47b8-b7ae-6301675330cd"
      },
      "execution_count": null,
      "outputs": [
        {
          "output_type": "stream",
          "name": "stdout",
          "text": [
            "Probability of  chocolate\n",
            "NONE 0.013\n",
            "Here is a bag filled with popcorn. 0.0\n",
            "There is no chocolate in the bag. 0.0\n",
            "Yet, the label on the bag says 'chocolate' and not 'popcorn.' Sam finds the bag. 0.42\n",
            "She had never seen the bag before. 0.484\n",
            "She cannot see what is inside the bag. 0.834\n",
            "She reads the label. 0.851\n",
            "She opens the bag and inspects its contents. 0.008\n",
            "She can clearly see that it is full of popcorn. 0.0\n",
            "\n",
            "\n",
            "Probability of  popcorn\n",
            "NONE 0.018\n",
            "Here is a bag filled with popcorn. 0.981\n",
            "There is no chocolate in the bag. 0.961\n",
            "Yet, the label on the bag says 'chocolate' and not 'popcorn.' Sam finds the bag. 0.522\n",
            "She had never seen the bag before. 0.424\n",
            "She cannot see what is inside the bag. 0.095\n",
            "She reads the label. 0.107\n",
            "She opens the bag and inspects its contents. 0.981\n",
            "She can clearly see that it is full of popcorn. 0.998\n"
          ]
        }
      ]
    },
    {
      "cell_type": "markdown",
      "source": [
        "## Study 2"
      ],
      "metadata": {
        "id": "x02XyJ4bsirs"
      }
    },
    {
      "cell_type": "code",
      "source": [
        "txt = r\"\"\"In the room, there are John, Mark, a cat, a box, and a basket. \n",
        "John takes the cat and puts it in the basket. \n",
        "He leaves the room and goes to school. \n",
        "While John is away, Mark takes the cat out of the basket and puts it in the box. \n",
        "Mark leaves the room and goes to work. John comes back from school and enters the room. \n",
        "He doesn't know what happened in the room when he was away.\n",
        "\"\"\".replace(\"\\n\", \" \").replace(\"  \", \" \")\n",
        "\n",
        "### Prompt 1.1: Location\n",
        "location = \"The cat jumps out of the\"\n",
        "print(gpt3(prompt=txt+location, max_tokens=90,logprobs=1))\n",
        "gpt3(engine=\"text-davinci-003\", prompt=txt+location, max_tokens=1, temperature=0, logprobs=10, echo_probs=True)"
      ],
      "metadata": {
        "id": "xNiq2dEMsmMN",
        "colab": {
          "base_uri": "https://localhost:8080/"
        },
        "outputId": "5c424fc8-9b69-4124-d5a9-b79b611813e4"
      },
      "execution_count": null,
      "outputs": [
        {
          "output_type": "stream",
          "name": "stdout",
          "text": [
            "['box and runs away.', 1.0]\n",
            "Completion probabilities: \n",
            " box 1.0\n",
            " basket 0.0\n",
            " the 0.0\n",
            " room 0.0\n",
            " Box 0.0\n"
          ]
        },
        {
          "output_type": "execute_result",
          "data": {
            "text/plain": [
              "['box', 1.0]"
            ]
          },
          "metadata": {},
          "execution_count": 16
        }
      ]
    },
    {
      "cell_type": "code",
      "source": [
        "### Prompt 1.2: Protagonist's belief \n",
        "qbelief = \"John thinks that the cat is in the\"\n",
        "\n",
        "print(gpt3(engine=\"text-davinci-003\", prompt=txt+qbelief, max_tokens=50, temperature=0, logprobs=1))\n",
        "gpt3(engine=\"text-davinci-003\", prompt=txt+qbelief, max_tokens=1, temperature=0, logprobs=10, echo_probs=True)\n"
      ],
      "metadata": {
        "id": "SzuQIjrss0OM",
        "colab": {
          "base_uri": "https://localhost:8080/"
        },
        "outputId": "e526626b-8a57-495d-a9f9-8a9351f3637a"
      },
      "execution_count": null,
      "outputs": [
        {
          "output_type": "stream",
          "name": "stdout",
          "text": [
            "['basket, but it is actually in the box.', 0.98]\n",
            "Completion probabilities: \n",
            " basket 0.98\n",
            " same 0.02\n",
            " box 0.0\n",
            " the 0.0\n",
            " original 0.0\n"
          ]
        },
        {
          "output_type": "execute_result",
          "data": {
            "text/plain": [
              "['basket', 0.98]"
            ]
          },
          "metadata": {},
          "execution_count": 17
        }
      ]
    },
    {
      "cell_type": "code",
      "source": [
        "### Prompt 1.3: Protagonist's belief \n",
        "qbelief = \"When John comes back home, he will look for the cat in the\"\n",
        "\n",
        "print(gpt3(engine=\"text-davinci-003\", prompt=txt+qbelief, max_tokens=50, temperature=0, logprobs=1))\n",
        "gpt3(engine=\"text-davinci-003\", prompt=txt+qbelief, max_tokens=1, temperature=0, logprobs=10, echo_probs=True)\n"
      ],
      "metadata": {
        "id": "NHtLjuaV2c6G",
        "colab": {
          "base_uri": "https://localhost:8080/"
        },
        "outputId": "ed69da26-dc8b-4920-c5ab-f7a6c8687e8f"
      },
      "execution_count": null,
      "outputs": [
        {
          "output_type": "stream",
          "name": "stdout",
          "text": [
            "[\"basket, but he won't find it. He will then look for the cat in the box and find it there.\", 0.97]\n",
            "Completion probabilities: \n",
            " basket 0.98\n",
            " room 0.02\n",
            " box 0.0\n",
            " same 0.0\n",
            " wrong 0.0\n"
          ]
        },
        {
          "output_type": "execute_result",
          "data": {
            "text/plain": [
              "['basket', 0.98]"
            ]
          },
          "metadata": {},
          "execution_count": 18
        }
      ]
    },
    {
      "cell_type": "code",
      "source": [
        "### Sentence by sentence completions: CONTENTS\n",
        "txt= r\"\"\"In the room there are John, Mark, a cat, a box, and a basket. \n",
        "John takes the cat and puts it in the basket. \n",
        "Mark takes the cat out of the basket and puts it in the box. \n",
        "JJohn takes the cat out of the box and puts it in the basket. \n",
        "He leaves the room and goes to school. \n",
        "While John is away, Mark takes the cat out of the basket and puts it in the box. \n",
        "Mark leaves the room and goes to work. John comes back from school and enters the room. \n",
        "He doesn't know what happened in the room when he was away. \"\"\".replace(\"\\n\", \" \").replace(\"  \", \" \")\n",
        "\n",
        "o1=\" box\"\n",
        "o2=\" basket\"\n",
        "\n",
        "location = \"The cat jumps out of the\"\n",
        "print(\"Probability of \"+o1)\n",
        "sentence_by_sentence(txt, diag_prompt=location+o1,target_word= o1)\n",
        "print(\"\\n\\nProbability of \"+o2)\n",
        "sentence_by_sentence(txt, diag_prompt=location+o2,target_word= o2)"
      ],
      "metadata": {
        "id": "sfuLjvDVs0iO",
        "colab": {
          "base_uri": "https://localhost:8080/"
        },
        "outputId": "90af2fcb-f2a2-4fa9-8a49-427375c35e83"
      },
      "execution_count": null,
      "outputs": [
        {
          "output_type": "stream",
          "name": "stdout",
          "text": [
            "Probability of  box\n",
            "NONE 0.257\n",
            "In the room there are John, Mark, a cat, a box, and a basket. 0.244\n",
            "John takes the cat and puts it in the basket. 0.001\n",
            "Mark takes the cat out of the basket and puts it in the box. 1.0\n",
            "JJohn takes the cat out of the box and puts it in the basket. 0.0\n",
            "He leaves the room and goes to school. 0.0\n",
            "While John is away, Mark takes the cat out of the basket and puts it in the box. 0.999\n",
            "Mark leaves the room and goes to work. 0.999\n",
            "John comes back from school and enters the room. 0.997\n",
            "He doesn't know what happened in the room when he was away. 0.997\n",
            "\n",
            "\n",
            "Probability of  basket\n",
            "NONE 0.002\n",
            "In the room there are John, Mark, a cat, a box, and a basket. 0.494\n",
            "John takes the cat and puts it in the basket. 0.999\n",
            "Mark takes the cat out of the basket and puts it in the box. 0.0\n",
            "JJohn takes the cat out of the box and puts it in the basket. 0.999\n",
            "He leaves the room and goes to school. 0.999\n",
            "While John is away, Mark takes the cat out of the basket and puts it in the box. 0.0\n",
            "Mark leaves the room and goes to work. 0.0\n",
            "John comes back from school and enters the room. 0.002\n",
            "He doesn't know what happened in the room when he was away. 0.003\n"
          ]
        }
      ]
    },
    {
      "cell_type": "code",
      "source": [
        "### Sentence by sentence completions: CONTENTS\n",
        "qbelief = \"When John comes back home, he will look for the cat in the\"\n",
        "print(\"Probability of \"+o1)\n",
        "sentence_by_sentence(txt, diag_prompt=qbelief+o1,target_word= o1)\n",
        "print(\"\\n\\nProbability of \"+o2)\n",
        "sentence_by_sentence(txt, diag_prompt=qbelief+o2,target_word= o2)"
      ],
      "metadata": {
        "id": "zqh5va8GKWps",
        "colab": {
          "base_uri": "https://localhost:8080/"
        },
        "outputId": "30545c3f-d609-451f-c52d-c7aac1f3529a"
      },
      "execution_count": null,
      "outputs": [
        {
          "output_type": "stream",
          "name": "stdout",
          "text": [
            "Probability of  box\n",
            "NONE 0.0\n",
            "In the room there are John, Mark, a cat, a box, and a basket. 0.243\n",
            "John takes the cat and puts it in the basket. 0.004\n",
            "Mark takes the cat out of the basket and puts it in the box. 0.9\n",
            "JJohn takes the cat out of the box and puts it in the basket. 0.0\n",
            "He leaves the room and goes to school. 0.001\n",
            "While John is away, Mark takes the cat out of the basket and puts it in the box. 0.019\n",
            "Mark leaves the room and goes to work. 0.044\n",
            "John comes back from school and enters the room. 0.089\n",
            "He doesn't know what happened in the room when he was away. 0.037\n",
            "\n",
            "\n",
            "Probability of  basket\n",
            "NONE 0.0\n",
            "In the room there are John, Mark, a cat, a box, and a basket. 0.723\n",
            "John takes the cat and puts it in the basket. 0.995\n",
            "Mark takes the cat out of the basket and puts it in the box. 0.071\n",
            "JJohn takes the cat out of the box and puts it in the basket. 0.999\n",
            "He leaves the room and goes to school. 0.99\n",
            "While John is away, Mark takes the cat out of the basket and puts it in the box. 0.985\n",
            "Mark leaves the room and goes to work. 0.954\n",
            "John comes back from school and enters the room. 0.902\n",
            "He doesn't know what happened in the room when he was away. 0.883\n"
          ]
        }
      ]
    },
    {
      "cell_type": "markdown",
      "source": [
        "## Study 3:"
      ],
      "metadata": {
        "id": "8ycktQQWKtEM"
      }
    },
    {
      "cell_type": "code",
      "source": [
        "## Function to process the tasks\n",
        "def process_tsk(tsk, len_out=1, eng=\"text-davinci-003\", GPT=True, study=\"S1\"):\n",
        "  if study==\"S1\":\n",
        "    txt=tsk[\"txt\"].replace(\"S1\",tsk[\"o1\"]).replace(\"S2\",tsk[\"o2\"]).replace(\"CX\",tsk[\"c\"]).replace(\"XNAM\",tsk[\"xnam\"]).replace(\"XPRO\",tsk[\"xpro\"]).replace(\"POS_PRO\",tsk[\"pos_pro\"]).replace(\". h\",\". H\").replace(\". s\",\". S\")\n",
        "    txtr=txt.replace(tsk[\"o1\"], \"X1\").replace(tsk[\"o2\"], tsk[\"o1\"]).replace(\"X1\",tsk[\"o2\"]) \n",
        "\n",
        "    q1 = tsk[\"xpro\"].capitalize()+\" opens the \"+tsk[\"c\"]+\" and looks inside. \"+tsk[\"xpro\"].capitalize()+\" can clearly see that it is full of\"\n",
        "    q2 = tsk[\"xpro\"].capitalize()+\" believes that the \"+tsk[\"c\"]+\" is full of\"\n",
        "    q3 = tsk[\"xpro\"].capitalize()+\" calls \"+tsk[\"pos_pro\"]+\" friend to tell them that \"+tsk[\"xpro\"]+\" has just found a \"+tsk[\"c\"]+\" full of\"\n",
        "    #correct task #17\n",
        "    if tsk[\"NUMBER\"]==17: \n",
        "        q1 = tsk[\"xpro\"].capitalize()+\" puts the \"+tsk[\"c\"]+\" on and listens to it. \"+tsk[\"xpro\"].capitalize()+\" can clearly hear that it is full of\"\n",
        "\n",
        "  if study==\"S2\": \n",
        "    txt=tsk[\"txt\"]\n",
        "    txtr=txt.replace(tsk[\"o1\"], \"PLACEHOLDER_FOR_O1\").replace(tsk[\"o2\"], tsk[\"o1\"]).replace(\"PLACEHOLDER_FOR_O1\", tsk[\"o2\"])\n",
        "    q1=tsk[\"q1\"]\n",
        "    q2=tsk[\"q2\"]\n",
        "    q3=tsk[\"q3\"]\n",
        "\n",
        "  print(\"================================= TASK #\"+str(tsk[\"NUMBER\"])+ \" ================================= \")\n",
        "  print(\"TASK: \"+txt)\n",
        "  print(\"REVERSED TASK: \"+ txtr)\n",
        "  print(\"PROMPT 1.1: \"+q1+\" ______\")\n",
        "  print(\"PROMPT 1.2: \"+q2+\" ______\")\n",
        "  print(\"PROMPT 1.3: \"+q3+\" ______\")\n",
        "  print(\"=========================================================================== \")\n",
        "\n",
        "  ### normal \n",
        "  print(\"## EXPECTED PATTERN: \"+tsk[\"o1\"]+\"--\"+tsk[\"o2\"]+\"--\"+tsk[\"o2\"])\n",
        "  if GPT:\n",
        "    print(gpt3(engine=eng, prompt=txt+q1, max_tokens=len_out,temperature=0, logprobs=2))\n",
        "    print(gpt3(engine=eng, prompt=txt+q2, max_tokens=len_out,temperature=0, logprobs=2))\n",
        "    print(gpt3(engine=eng, prompt=txt+q3, max_tokens=len_out,temperature=0, logprobs=2))\n",
        "  else:\n",
        "    print(hf(engine=eng, prompt=txt+q1, max_tokens=len_out,temperature=.0001))\n",
        "    print(hf(engine=eng, prompt=txt+q2, max_tokens=len_out,temperature=.0001))\n",
        "    print(hf(engine=eng, prompt=txt+q3, max_tokens=len_out,temperature=.0001))\n",
        "    \n",
        "  ### reversed\n",
        "  print(\"## EXPECTED PATTERN: \"+tsk[\"o2\"]+\"--\"+tsk[\"o1\"]+\"--\"+tsk[\"o1\"])\n",
        "  if GPT:\n",
        "    print(gpt3(engine=eng, prompt=txtr+q1, max_tokens=len_out,temperature=0, logprobs=2))\n",
        "    print(gpt3(engine=eng, prompt=txtr+q2, max_tokens=len_out,temperature=0, logprobs=2))\n",
        "    print(gpt3(engine=eng, prompt=txtr+q3, max_tokens=len_out,temperature=0, logprobs=2))\n",
        "  else:\n",
        "    print(hf(engine=eng, prompt=txtr+q1, max_tokens=len_out,temperature=.0001))\n",
        "    print(hf(engine=eng, prompt=txtr+q2, max_tokens=len_out,temperature=.0001))\n",
        "    print(hf(engine=eng, prompt=txtr+q3, max_tokens=len_out,temperature=.0001))"
      ],
      "metadata": {
        "id": "t-kc20W_LQD1"
      },
      "execution_count": null,
      "outputs": []
    },
    {
      "cell_type": "code",
      "source": [
        "# unexpected Contents tasks\n",
        "tsks1 = [\n",
        "    {\"txt\": r\"\"\"On the shelf, there is a CX. It is full of S1; there is no S2 in it. Yet, the label on this CX says \"S2\" and not \"S1\". XNAM walks into the room and notices the CX. XPRO has never seen it before. He reads the label. \"\"\",\n",
        "    \"o1\": \"beer\",     \"o2\": \"wine\", \"c\":\"bottle\", \"xnam\":\"Mark\", \"xpro\":\"he\", \"pos_pro\":\"his\", \"q3\":\"loves drinking\"}, \n",
        "    \n",
        "    {\"txt\": r\"\"\"On the shelf in the company's headquarters, there is a CX that contains only S1 files and no S2 files. Yet, confusingly, its label clearly states \"S2 files\" and not \"S1 files\". The newly hired computer engineer finds the CX on the shelf. XPRO has never seen this CX before. XPRO reads its label. \"\"\",\n",
        "    \"o1\": \"audio\", \"o2\": \"video\",\"c\":\"hard drive\", \"xnam\":\"computer engineer\", \"xpro\":\"she\", \"pos_pro\":\"her\", \"q3\":\"loves browsing through old files containing\"},   \n",
        "    \n",
        "    {\"txt\": r\"\"\"In the freezer, there is a CX filled with S1. There is no S2 in it. Yet, the label says \"S2\" and not \"S1\". The label is wrong. One day, XNAM finds the CX and realizes that XPRO has never seen it before. XPRO cannot see what is inside the CX. XPRO reads the label. \"\"\",\n",
        "    \"o1\": \"ice cream\",     \"o2\": \"jam\",\"c\":\"container\", \"xnam\":\"Anna\", \"xpro\":\"she\", \"pos_pro\":\"her\",\"q3\":\"loves eating\"},   \n",
        "\n",
        "    {\"txt\": r\"\"\"A CX full of S1 arrives at Amsterdam port. There is no S2 in it. It is sealed, and one cannot see what is inside. The shipping documents state that it contains S2. A customs officer approaches the CX. XPRO cannot see what is inside. XPRO reads the shipping documents to figure out what is inside. \"\"\",\n",
        "    \"o1\": \"salt\",     \"o2\": \"sugar\",\"c\":\"shipping container\", \"xnam\":\"customs officer\", \"xpro\":\"she\", \"pos_pro\":\"her\", \"q3\":\"thinks that it is much easier to inspect shipping containers filled with\"},   \n",
        "\n",
        "    {\"txt\": r\"\"\"There is a closed CX on the table of an empty meeting room, in which a seminar is about to take place. The CX is filled with S1, and there are no S2 in it. Yet, it is labeled with the word \"S2\". The first attendee walks into the room and sits in a chair in front of the CX. XPRO reads the label. \"\"\",\n",
        "    \"o1\": \"pens\",     \"o2\": \"pencils\",\"c\":\"box\", \"xnam\":\"attendee\", \"xpro\":\"he\", \"pos_pro\":\"his\", \"q3\":\"loves writing with\"}, \n",
        "    \n",
        "    {\"txt\": r\"\"\"Inside the fridge of the Airbnb host's kitchen is a CX labeled as \"S2\". However, the CX actually contains S1 and no S2. XNAM, a guest who just arrived at the house, opens the fridge and sees the CX. XPRO cannot see what is inside the CX, but XPRO reads the label. \"\"\",\n",
        "    \"o1\": \"sardines\",     \"o2\": \"tuna\",\"c\":\"can\", \"xnam\":\"Jill\", \"xpro\":\"she\", \"pos_pro\":\"her\", \"q3\":\"loves eating\"}, \n",
        "    \n",
        "    {\"txt\": r\"\"\"There is a CX lying in front of Julia's door. The envelope is filled with S1, and there are no S2 in it. Yet, a label with the word \"S2\" is stuck on the outside. XNAM who's leaving POS_PRO own apartment for the first time that morning, walks past and notices the CX on the floor. XPRO wonders what is inside the CX and reads the label. \"\"\",\n",
        "    \"o1\": \"leaflets\",     \"o2\": \"receipts\",\"c\":\"paper envelope\", \"xnam\":\"Julia's neighbor\", \"xpro\":\"she\", \"pos_pro\":\"her\", \"q3\":\"hoping that the tenant finally receives some of those\"},\n",
        "\n",
        "    {\"txt\": r\"\"\"A vault that's been unopened for over 100 years has just been unlocked. Inside lies a closed CX with an engraving on it that reads \"S2\". However, the CX actually contains only S1 and doesn't contain any S2 at all. An inspector approaches the vault. XPRO cannot see what is inside the CX. XPRO reads the engraving. \"\"\",\n",
        "    \"o1\": \"gems\",     \"o2\": \"books\",\"c\":\"box\", \"xnam\":\"inspector\", \"xpro\":\"he\", \"pos_pro\":\"his\", \"q3\":\"was hoping, his whole career, to find such a box filled with\"},\n",
        "\n",
        "    {\"txt\": r\"\"\"A CX filled with S1 sits on the counter of a department store. There is no S2 inside it; however, the CX bears the label \"S2\" instead of \"S1\". A new customer walks up to the counter and notices the bottle. He reads the label. \"\"\",\n",
        "    \"o1\": \"perfume\",     \"o2\": \"water\",\"c\":\"bottle\", \"xnam\":\"new customer\", \"xpro\":\"he\", \"pos_pro\":\"his\", \"q3\":\"was just looking for a bottle full of\"},\n",
        "\n",
        "    {\"txt\":  r\"\"\"In an abandoned mansion, a forensics team is inspecting a crime scene. Next to the body is a CX. It contains S1, but it remains closed, and no one can see what is inside. The label on this CX says S2. The XNAM, who's just arrived on the scene, crouches down to inspect the CX. He cannot see what is inside the CX, but he reads the label. \"\"\",\n",
        "    \"o1\": \"cocaine\",     \"o2\": \"heroin\",\"c\":\"metal box\", \"xnam\":\"lead detective\", \"xpro\":\"he\", \"pos_pro\":\"his\", \"q3\":\"specializes in cases which involve metal cans filled with drugs such as\"}, \n",
        "\n",
        "    {\"txt\": r\"\"\"Julia prepares a gift box for her son, XNAM, under the Christmas tree. She wants to prank Steven. She fills the gift box with S1 but labels it S2, written in clear large letters. A few hours later, XNAM comes down the stairs and finds the gift box under the Christmas tree. He cannot see what is inside, but he reads the label. \"\"\",\n",
        "    \"o1\": \"tea\",     \"o2\": \"coffee\",\"c\":\"gift box\", \"xnam\":\"Steven\", \"xpro\":\"he\", \"pos_pro\":\"his\", \"q3\":\"loves drinking\"},\n",
        "\n",
        "    {\"txt\":  r\"\"\"At the customs division of an airport, an immigration officer hands over a CX to a biohazard inspector. The CX is sealed and labeled as \"S2 samples\". No one can see what is inside, but in fact, it only contains S1 samples. The inspector has not examined the contents of this CX before. She reads the label on the CX. \"\"\",\n",
        "    \"o1\": \"blood\",     \"o2\": \"urine\",\"c\":\"plastic box\", \"xnam\":\"inspector\", \"xpro\":\"she\", \"pos_pro\":\"her\", \"q3\":\"loves analysing samples containing\"},\n",
        "    \n",
        "    {\"txt\": r\"\"\"Paul holds out a gift-wrapped CX to XNAM and tells POS_PRO that there are S2 in it. In reality, though, the CX contains only S1. XNAM takes the CX from him. \"\"\",\n",
        "    \"o1\": \"socks\",     \"o2\": \"scarves\",\"c\":\"box\", \"xnam\":\"Sara\", \"xpro\":\"she\", \"pos_pro\":\"her\", \"q3\":\"has just run out of\"},\n",
        "        \n",
        "    {\"txt\":  r\"\"\"A deceased person's laptop contains an encrypted folder labeled \"S2\". Yet, unbeknownst to everyone, the folder only contains S1. There are no S2 in it. A digital forensics expert has been hired to retrieve and back up the contents of this folder. As XPRO switches on the machine for the first time, the home screen appears. She locates the encrypted folder and reads its label. \"\"\",\n",
        "    \"o1\": \"videos\",     \"o2\": \"photos\",\"c\":\"folder\", \"xnam\":\"forensics expert\", \"xpro\":\"she\", \"pos_pro\":\"her\", \"q3\":\"has all the tools needed to decrypt files containing\"},\n",
        "\n",
        "    {\"txt\":  r\"\"\"On Thursday, XNAM orders some S2 on the internet. Unfortunately, there is a mistake at the logistics center. They ship a CX full of S1 but label it as \"S2\". The CX arrives on Saturday in the morning. The postman leaves the CX at XNAM's front door and rings the doorbell. XNAM opens the door, looks down, and sees the CX. He reads the label. \"\"\",\n",
        "    \"o1\": \"wallets\",     \"o2\": \"sneakers\",\"c\":\"parcel\", \"xnam\":\"Daniel\", \"xpro\":\"he\", \"pos_pro\":\"his\", \"q3\":\"couldn't wait to receive these\"},\n",
        "    \n",
        "    {\"txt\":  r\"\"\"A CX has been left behind at the park after a school's picnic day event. One of the organizers, who's strolling past the bench on which the CX is sitting, sees it. The CX has only S1 in it, but a sticker on the outside says \"S2\". The organizer doesn't know what's inside; XPRO reads the sticker. \"\"\",\n",
        "    \"o1\": \"sandwiches\",     \"o2\": \"beer\",\"c\":\"cooler box\", \"xnam\":\"organizer\", \"xpro\":\"he\", \"pos_pro\":\"his\", \"q3\":\"hoping to find some\"},\n",
        "   \n",
        "    {\"txt\":  r\"\"\"The packers at a freight forwarding company are notified of a CX that just arrived at their headquarters. The bill of lading lists the contents of this CX as S2. One of the packers, XNAM, is sent to collect the CX. No one tells him that the CX actually contains S1 and there are no S2 in it. \"\"\",\n",
        "    \"o1\": \"clothes\",     \"o2\": \"vegetables\",\"c\":\"container\", \"xnam\":\"Daniel\", \"xpro\":\"he\", \"pos_pro\":\"his\", \"q3\":\"hoping to find a container full of\"},\n",
        "   \n",
        "    {\"txt\":   r\"\"\"XNAM is searching for something in POS_PRO mother's attic. XPRO finds a box of CDs labeled \"S2\". XNAM has never seen or listened to these CDs before, and doesn't know that they contain only S1 music and no S2 music at all. She reads the description written on the box. \"\"\", \n",
        "    \"o1\": \"jazz\",     \"o2\": \"disco\",\"c\":\"CD\", \"xnam\":\"Vicky\", \"xpro\":\"she\", \"pos_pro\":\"her\", \"q3\":\"loves listening to\"},\n",
        "    \n",
        "    {\"txt\":  r\"\"\"XNAM has just checked into a hotel room and goes to the bathroom. On the counter next to the sink is a CX. XNAM glances at the lettering on the CX, which says \"S2\". XPRO does not realize that the CX is, in fact, filled with S1 and that there is no S2 in it. \"\"\",\n",
        "    \"o1\": \"lavender soap\",     \"o2\": \"sandalwood soap\",\"c\":\"jar\", \"xnam\":\"Megan\", \"xpro\":\"she\", \"pos_pro\":\"her\", \"q3\":\"loves the smell of\"},\n",
        "        \n",
        "    {\"txt\": r\"\"\"Here is a CX filled with S1. There is no S2 in this CX. Yet, the label on this CX says \"S2\" and not \"S1\". XNAM finds the CX. XPRO has never ever seen this CX before. Also, XPRO cannot see what is inside this CX. XPRO reads the label. \"\"\",\n",
        "    \"o1\": \"chocolate\",     \"o2\": \"popcorn\",\"c\":\"bag\", \"xnam\":\"Sam\", \"xpro\":\"she\", \"pos_pro\":\"her\", \"q3\":\"loves eating\"}\n",
        "    ]\n",
        "\n",
        "j=0\n",
        "for i in tsks1:\n",
        "    i[\"NUMBER\"]=j\n",
        "    j=j+1\n",
        "    \n",
        "\n",
        "## Sanity check\n",
        "process_tsk(tsks1[0], eng=\"gpt2-xl\", GPT=False, len_out=1)"
      ],
      "metadata": {
        "id": "ta8PGXGuKw5s",
        "colab": {
          "base_uri": "https://localhost:8080/"
        },
        "outputId": "a11fb214-60b9-4ee6-df65-d8e28905255a"
      },
      "execution_count": null,
      "outputs": [
        {
          "output_type": "stream",
          "name": "stdout",
          "text": [
            "================================= TASK #0 ================================= \n",
            "TASK: On the shelf, there is a bottle. It is full of beer; there is no wine in it. Yet, the label on this bottle says \"wine\" and not \"beer\". Mark walks into the room and notices the bottle. He has never seen it before. He reads the label. \n",
            "REVERSED TASK: On the shelf, there is a bottle. It is full of wine; there is no beer in it. Yet, the label on this bottle says \"beer\" and not \"wine\". Mark walks into the room and notices the bottle. He has never seen it before. He reads the label. \n",
            "PROMPT 1.1: He opens the bottle and looks inside. He can clearly see that it is full of ______\n",
            "PROMPT 1.2: He believes that the bottle is full of ______\n",
            "PROMPT 1.3: He calls his friend to tell them that he has just found a bottle full of ______\n",
            "=========================================================================== \n",
            "## EXPECTED PATTERN: beer--wine--wine\n",
            " beer\n",
            " wine\n",
            " wine\n",
            "## EXPECTED PATTERN: wine--beer--beer\n",
            " wine\n",
            " beer\n",
            " beer\n"
          ]
        }
      ]
    },
    {
      "cell_type": "code",
      "source": [
        "### This will take some time so run only the lines you need:\n",
        "\n",
        "#for i in tsks1: process_tsk(i, eng=\"text-ada-001\", len_out=3) #0\n",
        "#for i in tsks1: process_tsk(i, eng=\"text-babbage-001\",len_out=3) #0\n",
        "#for i in tsks1: process_tsk(i, eng=\"text-curie-001\",len_out=3)  # 1\n",
        "#for i in tsks1: process_tsk(i, eng=\"text-davinci-001\",len_out=3) # 6\n",
        "#for i in tsks1: process_tsk(i, eng=\"text-davinci-002\",len_out=3) # 15\n",
        "#for i in tsks1: process_tsk(i, eng=\"text-davinci-003\",len_out=3) # 17\n",
        "\n",
        "#for i in tsks1: process_tsk(i, eng=\"openai-gpt\", len_out=3, GPT=False) #0\n",
        "#for i in tsks1: process_tsk(i, eng=\"gpt2-xl\", len_out=3, GPT=False) #1\n",
        "#for i in tsks1: process_tsk(i, eng=\"bigscience/bloom\", len_out=3, GPT=False) #9\n"
      ],
      "metadata": {
        "id": "SkWUzPonMAYg"
      },
      "execution_count": null,
      "outputs": []
    },
    {
      "cell_type": "code",
      "source": [
        "tsks2 = [\n",
        "    {\"txt\": r\"\"\"Father comes home from the grocery store. He bought bananas for banana bread. \n",
        "His daughter, Maria, helps him put away the shopping. She asks him: \"Where should I put the bananas?\" \"In the red drawer,\" says Father. \"Wait, I'll lift you up there, because you are too short,\" says Father, and lifts her up. Maria puts the bananas in the red drawer. Maria remembers exactly where she put the bananas so that she can come back and get one later. She loves bananas. Then, she leaves for school. While Maria is away, Father starts to prepare the banana bread and takes the bananas from the red drawer. He peels and slices one of them, but then he puts the rest of them back in the yellow drawer instead of the red one. He realizes that he is missing eggs. He leaves the kitchen and goes to see if their neighbor has some. \"\"\".replace(\"\\n\", \" \").replace(\"  \", \" \"), \n",
        "\"o1\":\"red\", \n",
        "\"o2\":\"yellow\", \n",
        "\"q1\": \"The bananas are in the\",\n",
        "\"q2\":\"Maria thinks that the bananas are in the\",\n",
        "\"q3\":\"When Maria comes back, she will first look for the bananas in the\"},\n",
        "\n",
        "{\"txt\": r\"\"\"Cecilia is about to bake a saffron cake for her son's birthday. In preparation, she places a small packet of very expensive saffron in the drawer, which is under the cupboard.\n",
        "As Cecilia sets out the other ingredients, the telephone in the living room rings. She leaves the kitchen to attend the call. She closes the door behind her and cannot see what is happening in the kitchen. \n",
        "While Cecilia is gone, her eight-year-old daughter, Pamela, creeps into the kitchen. Pamela is jealous about all the attention that her brother will be receiving on his birthday, so she quietly takes the packet of saffron from the drawer and hides it in the cupboard. She hopes that her mother will not be able to find it. \"\"\".replace(\"\\n\", \" \").replace(\"  \", \" \"), \n",
        "\"o1\":\"drawer\", \"o2\":\"cupboard\", \n",
        "\"q1\": \"The saffron is in the\",\n",
        "\"q2\": \"Cecilia thinks that the saffron is in the\",\n",
        "\"q3\": \"When Cecilia comes back to the kitchen, she will first look for the saffron in the\"},\n",
        "\n",
        "{\"txt\": r\"\"\"It's the end of the day shift at a newsroom, and a reporter has almost finished writing an article on the office computer. There are two folders on the desktop screen: 'Drafts' and 'Edits.' Intending to complete the article the next day, she saves the article in 'Drafts' and leaves the newsroom. Soon she is at home and fast asleep. When the reporter is gone, the staff proofreader enters the office to begin his night shift. He browses through the two folders to see if there's anything he should work on. He notices that the article that the reporter wrote is an urgent piece that needs to be published as soon as possible. He decides to write the concluding paragraph and have it ready for the design team. After the article is finished and proofread, he moves it into the 'Edits' folder. The next day in the morning, the reporter wakes up. \"\"\".replace(\"\\n\", \" \").replace(\"  \", \" \"), \n",
        " \"o1\":\"Drafts\", \"o2\":\"Edits\", \n",
        " \"q1\": \"The article file is in the folder called '\",\n",
        " \"q2\":\"The reporter thinks that the article file is in the folder called '\",\n",
        " \"q3\": \"When the reporter comes back to work, she will first look for the article file in the folder called '\"},\n",
        "\n",
        "{\"txt\": r\"\"\"Lila likes it when her dog stays in the house while she's away. Thus, she locks her dog in the house before leaving for school. When Lila is gone, her mom comes home. Mom doesn't like it when the dog is locked in the house, so she takes it outside and locks it in the shed instead. \"\"\".replace(\"\\n\", \" \").replace(\"  \", \" \"), \n",
        " \"o1\":\"house\", \"o2\":\"shed\", \n",
        " \"q1\": \"The dog is in the\",\n",
        " \"q2\": \"Lila thinks that the dog is in the\",\n",
        "\"q3\": \"When Lila comes back from school, she will look for the dog in the\"\n",
        "},\n",
        "\n",
        "{\"txt\": r\"\"\"It's nighttime, and Steven is doing some household chores. After hand-washing a blanket, he goes into the backyard to hang it on the clothesline next to the shed. Steven hangs the blanket without any clothespins to secure it, and then returns indoors to go to bed. Overnight, the wind blows the blanket off from the clothesline next to the shed. The blanket flies high in the air and miraculously lands on another clothesline, located next to the fence. When Steven wakes up in the morning, he remembers that he needs to get his blanket. He has no idea what happened when he was asleep. \"\"\".replace(\"\\n\", \" \").replace(\"  \", \" \"), \n",
        " \"o1\":\"shed\", \"o2\":\"fence\", \n",
        " \"q1\": \"The blanket is on the clothesline next to the\",\n",
        " \"q2\":\"Steven thinks that the blanket is on the clothesline next to the\",\n",
        "\"q3\":\"Steven will first look for the blanket on the clothesline next to the\"},\n",
        "\n",
        "{\"txt\": r\"\"\"Sally and Anna are in a room. Sally puts a toy in a box. Sally leaves the room and goes outside to play with other children. When Sally is gone, Anna removes the toy from the box and puts it in a basket. \"\"\".replace(\"\\n\", \" \").replace(\"  \", \" \"), \n",
        " \"o1\":\"box\", \"o2\":\"basket\", \n",
        " \"q1\": \"The toy is in the\",\n",
        " \"q2\":\"Sally thinks that the toy is in the\",\n",
        " \"q3\":\"When she comes back, Sally will first look for the toy in the\"\n",
        " },\n",
        "\n",
        "{\"txt\": r\"\"\"Mark puts his blue basketball in a box and closes it. Mark doesn't know it, but this is a magical box, which changes colors of things that are left inside. After a few minutes, the basketball turns green. Mark cannot see what happened inside the magical box. \"\"\".replace(\"\\n\", \" \").replace(\"  \", \" \"), \n",
        " \"o1\":\"blue\", \"o2\":\"green\", \n",
        " \"q1\": \"Mark opens the box and can see that the basketball is now\",\n",
        " \"q2\": \"Mark thinks that the color of basketball is\",\n",
        " \"q3\": \"When Mark opens the box, he is going to expect that the color of the basketball is\"},\n",
        "\n",
        "{\"txt\": r\"\"\"Max watched his little brother put laundry in the washing machine. Next, Max left the house to play in the courtyard. While he was gone, his brother moved the laundry from the washing machine to the laundry basket.  \"\"\".replace(\"\\n\", \" \").replace(\"  \", \" \"), \n",
        " \"o1\":\"washing machine\", \"o2\":\"laundry basket\", \n",
        " \"q1\": \"The laundry is in the\",\n",
        " \"q2\": \"Max thinks that the laundry is in the\",\n",
        "\"q3\": \"When Max comes back to the house, he will first look for the laundry in the\" },\n",
        "\n",
        "{\"txt\": r\"\"\"Ed saw that his sister repaired a broken toy truck. He then left the room and had no way of knowing what was happening there. When he was gone, his sister accidentally broke the toy truck again. \"\"\".replace(\"\\n\", \" \").replace(\"  \", \" \"), \"o1\":\"Ed saw that his sister repaired a broken toy truck. He then left the room and had no way of knowing what was happening there. When he was gone, his sister accidentally broke the toy truck again.\", \"o2\":\"Ed saw that his sister accidentally broke a toy truck. He then left the room and had no way of knowing what was happening there. When he was gone, his sister repaired the broken truck. \", \n",
        " \"q1\": \"The toy truck is\",\n",
        " \"q2\":\"Ed thinks that the toy truck is\",\n",
        "\"q3\": \"When Ed comes back to the room, he will expect that the toy truck is\" },\n",
        "\n",
        "{\"txt\": r\"\"\"Mark sees a packet of cheese in the fridge, which is close to its expiry date. He plans to use it later that night when making dinner. He leaves for work. Soon, Mark's wife Jenna enters the kitchen to check which groceries need to be disposed of or restocked. She notices the cheese and places it in the freezer, thinking it will last longer that way. \"\"\".replace(\"\\n\", \" \").replace(\"  \", \" \"), \n",
        " \"o1\":\"fridge\", \"o2\":\"freezer\", \n",
        " \"q1\": \"The cheese is in the\",\n",
        " \"q2\": \"Mark thinks that the cheese is in the\",\n",
        "\"q3\": \"When Mark returns home, ready to prepare dinner, he will look for the cheese in the\"},\n",
        "\n",
        "{\"txt\": r\"\"\"At the end of the day, Anita is packing up her belongings as she gets ready to leave her workplace. She forgets her watch in the conference room. After she leaves, Anita's secretary comes in to tidy up. He sees the watch and picks it up. He leaves the watch at the reception. He decides that he will tell Anita that he has found her watch the next day, first thing in the morning. \"\"\".replace(\"\\n\", \" \").replace(\"  \", \" \"), \n",
        " \"o1\":\"conference room\", \"o2\":\"reception\", \n",
        " \"q1\": \"The watch is in the\",\n",
        " \"q2\": \"Anita thinks that the watch is in the\",\n",
        " \"q3\": \"When she comes back to work, Anita will first look for her watch in the\"},\n",
        "\n",
        "{\"txt\": r\"\"\"Frank and his wife Maria have two bank accounts: savings and checking. Their savings account was empty, but early in January, Frank sold their old car for $5,000 and deposited the money in their savings account. In February, Maria realized that they owe a lot of taxes. She logged in to their online bank platform and transferred all this money from their savings account to their checking account. Unfortunately, she forgot to tell Frank that she did that. Frank has no access to online banking, so he cannot check where the money is. A few days later, Frank decided to retrieve the proceeds from selling their old car to buy a new one. \"\"\".replace(\"\\n\", \" \").replace(\"  \", \" \"), \n",
        " \"o1\":\"savings\", \"o2\":\"checking\", \n",
        " \"q1\": \"The proceeds from selling their old car are in their\",\n",
        " \"q2\": \"Frank thinks that the proceeds from selling their old car are in their\",\n",
        " \"q3\": \"When he goes to the bank, Frank will ask the bank teller to look for the money in their\"},\n",
        "\n",
        "{\"txt\": r\"\"\"A mermaid finds a hermit crab living in a blue shell. She is excited to tell other mermaids about her discovery and swims away to look for them. In the meantime, the hermit crab decides that the blue shell is rather small and uncomfortable. He decides to swap it for a green shell that he has found nearby. He moves into the green shell and brings along all of his belongings. The blue shell is now abandoned and empty. An octopus observes all this and ponders whether it is a good time to try to catch and eat the crab, but then he decides that it is still too early for dinner. A few nautical miles away, the mermaid finds her friends smoking seaweed. Naturally, she doesn't know what happened around here in her absence. \"\"\".replace(\"\\n\", \" \").replace(\"  \", \" \"), \"o1\":\"blue\", \"o2\":\"green\", \n",
        " \"q1\": \"The crab lives in the\",\n",
        " \"q2\": \"The mermaid thinks that the crab lives in the\",\n",
        "\"q3\":\"When she comes back, the little mermaid will first look for the crab in the\"},\n",
        "\n",
        "{\"txt\": r\"\"\"The insurgents hide in the forest in Nottinghamshire. They are working on planning their next attack on the army checkpoint. One of the local farmers spots the insurgents and reports their whereabouts to the army. The army puts the troops on high alert and prepares to surround the insurgents. The insurgents realize what is going on and decide to abandon their base. They pack their tents and their weapons, and move to the forest in Oxfordshire. They do so in a stealthy way, so no one realizes that they have moved. They set up their base and start planning their next cunning attack. \"\"\".replace(\"\\n\", \" \").replace(\"  \", \" \"), \"o1\":\"Nottinghamshire\", \"o2\":\"Oxfordshire\", \n",
        " \"q1\": \"The insurgents are now hiding in the forest in\",\n",
        " \"q2\":\"The army thinks that the insurgents are hiding in the forest in\",\n",
        " \"q3\":\"When the army attacks, they will first search for the insurgents in the forest in\"},\n",
        "\n",
        "{\"txt\": r\"\"\"The prime minister has long believed that her government's flagship project, the introduction of universal basic income (UBI), should be supervised by the Minister of Finance. She was, however, becoming increasingly disappointed with the slow progress on this project. On Thursday morning, after a meeting with her advisor, she changed her mind. She decided that the project should be now supervised by the Minister of Internal Affairs. She decided not to tell anyone about her change of mind, for now. She will announce it during the cabinet meeting next week. \"\"\".replace(\"\\n\", \" \").replace(\"  \", \" \"), \n",
        "\"o1\":\"Finance\", \"o2\":\"Internal Affairs\", \n",
        " \"q1\": \"The prime minister thinks that the introduction of the UBI should be supervised by the Minister of\",\n",
        " \"q2\": \"The members of the cabinet think that the person supervising the introduction of the UBI is the Minister of\",\n",
        " \"q3\": \"When they arrive at the cabinet meeting next week, the members of the cabinet will expect that the person responsible for the introduction of the UBI is the Minister of\"},\n",
        "\n",
        "{\"txt\": r\"\"\"After months of fighting, the leaders of Azerbaijan and Armenia meet to discuss a peace treaty. They agree to transfer the authority over Nagorno-Karabakh from the former to the latter country. The agreement goes into effect immediately, but it will be announced to the residents of Nagorno-Karabakh at a press conference, on the next day. As of now, only the leaders know what has happened. \"\"\".replace(\"\\n\", \" \").replace(\"  \", \" \"), \"o1\":\"Azerbaijan\", \"o2\":\"Armenia\", \n",
        " \"q1\": \"As of now, the authority over Nagorno-Karabakh is held by the government of\",\n",
        " \"q2\": \"As of now, the residents of Nagorno-Karabakh think that the authority over their land is held by the government of\",\n",
        " \"q3\":\"After the meeting was over, but before the press conference, a Reuters journalist was interviewing Maria, an elderly resident of Nagorno-Karabakh. When asked who had the authority over her land, Maria said that it was the government of\"},\n",
        "\n",
        "{\"txt\": r\"\"\"Fred, an IT technician, was setting up a computer for one of the newly hired consultants. He saved the letterhead file in the 'docs' folder. While Fred was out, having lunch with the other employees, the consultant dropped in to pick up her computer. As Fred was gone, his boss, Mary, inspected the computer to see whether it was ready. She noticed that the letterhead file was placed in the 'docs' folder. She remembered that in accordance with the new guidance, the letterhead file should be stored in the 'templates' folder instead. She removed it from the 'docs' folder and moved it to the 'templates' folder. She then handed the computer to the consultant. Mary decided that at the next staff meeting, she would remind her team members of the new guidance. She left the office to meet with her own boss. A few minutes later, the newly hired consultant called the IT department. Fred was still away, eating lunch, but the call was automatically redirected to his mobile phone. The consultant asked Fred to help her find the letterhead file. Fred didn't realize that Mary changed the location of the file when he was gone. \"\"\".replace(\"\\n\", \" \").replace(\"  \", \" \"), \"o1\":\"docs\", \"o2\":\"templates\", \n",
        " \"q1\": \"The letterhead is located in the '\",\n",
        " \"q2\": \"Fred thinks that the letterhead is in the '\",\n",
        " \"q3\": \"Fred will first tell the consultant to look for the letterhead in the '\"\n",
        " },\n",
        "\n",
        "{\"txt\": r\"\"\"False transfer coin trick: First, you will need a coin in your right hand and show it to the spectator cleanly and clearly. You then move your right hand toward your left hand and slightly twist the right hand as you place your thumb on top of the coin. Now fully turn the right hand above your left hand, and close the left hand as if the coin has now fallen into it. Once this has happened, move the right hand, with the coin still in it, away to the side. \"\"\".replace(\"\\n\", \" \").replace(\"  \", \" \"), \"o1\":\"left\", \"o2\":\"right\", \n",
        " \"q1\": \"The coin is in your\",\n",
        " \"q2\":\"The spectator thinks that the coin is in your\",\n",
        " \"q3\": \"When you tell the spectator to try to get the coin, they will first try to get it from your\"},\n",
        "\n",
        "{\"txt\": r\"\"\"Protagonists A and B are in a room. A puts an object Q in container X and leaves the room. When A is away, B moves Q from container X to container Y. \"\"\".replace(\"\\n\", \" \").replace(\"  \", \" \"), \"o1\":\"X\", \"o2\":\"Y\", \n",
        " \"q1\": \"The Q is in container\",\n",
        " \"q2\":\"Protagonist A thinks that Q is in container\",\n",
        " \"q3\":\"Protagonist A, when asked, will claim that Q is in container\"},\n",
        "\n",
        "{\"txt\": r\"\"\"In the room, there is John, Mark, a cat, a box, and a basket.\n",
        "John takes the cat and puts it in the basket.\n",
        "Mark takes the cat out of the basket and puts it in the box.\n",
        "John takes the cat out of the box and puts it in the basket.\n",
        "He leaves the room and goes to school.\n",
        "Now Mark is alone in the room.\n",
        "He takes the cat out of the basket and puts it in the box.\n",
        "John has no way of knowing what happened in the room when he was away. \"\"\".replace(\"\\n\", \" \").replace(\"  \", \" \"), \n",
        "\"o1\": \"basket\", \"o2\":\"box\", \n",
        "\"q1\": \"The cat jumps out of the\",\n",
        "\"q2\": \"John thinks that the cat is in the\",\n",
        "\"q3\": \"When John comes home, he will first look for the cat in the\"}\n",
        "]\n",
        "\n",
        "j=0\n",
        "for i in tsks2:\n",
        "    i[\"NUMBER\"]=j\n",
        "    j=j+1\n",
        "    tmp=i[\"o1\"]\n",
        "    i[\"o1\"]=i[\"o2\"]\n",
        "    i[\"o2\"]=tmp\n",
        "\n",
        "### Sanity check\n",
        "process_tsk(tsks2[0], eng=\"gpt2-xl\", GPT=False, len_out=1, study=\"S2\")"
      ],
      "metadata": {
        "id": "jjgVsAbXQcWT",
        "colab": {
          "base_uri": "https://localhost:8080/"
        },
        "outputId": "3de814c0-9524-4d5b-a8e5-89aded072abd"
      },
      "execution_count": null,
      "outputs": [
        {
          "output_type": "stream",
          "name": "stdout",
          "text": [
            "================================= TASK #0 ================================= \n",
            "TASK: Father comes home from the grocery store. He bought bananas for banana bread. His daughter, Maria, helps him put away the shopping. She asks him: \"Where should I put the bananas?\" \"In the red drawer,\" says Father. \"Wait, I'll lift you up there, because you are too short,\" says Father, and lifts her up. Maria puts the bananas in the red drawer. Maria remembers exactly where she put the bananas so that she can come back and get one later. She loves bananas. Then, she leaves for school. While Maria is away, Father starts to prepare the banana bread and takes the bananas from the red drawer. He peels and slices one of them, but then he puts the rest of them back in the yellow drawer instead of the red one. He realizes that he is missing eggs. He leaves the kitchen and goes to see if their neighbor has some. \n",
            "REVERSED TASK: Father comes home from the grocery store. He bought bananas for banana bread. His daughter, Maria, helps him put away the shopping. She asks him: \"Where should I put the bananas?\" \"In the yellow drawer,\" says Father. \"Wait, I'll lift you up there, because you are too short,\" says Father, and lifts her up. Maria puts the bananas in the yellow drawer. Maria remembers exactly where she put the bananas so that she can come back and get one later. She loves bananas. Then, she leaves for school. While Maria is away, Father starts to prepare the banana bread and takes the bananas from the yellow drawer. He peels and slices one of them, but then he puts the rest of them back in the red drawer instead of the yellow one. He realizes that he is missing eggs. He leaves the kitchen and goes to see if their neighbor has some. \n",
            "PROMPT 1.1: The bananas are in the ______\n",
            "PROMPT 1.2: Maria thinks that the bananas are in the ______\n",
            "PROMPT 1.3: When Maria comes back, she will first look for the bananas in the ______\n",
            "=========================================================================== \n",
            "## EXPECTED PATTERN: yellow--red--red\n",
            " yellow\n",
            " red\n",
            " yellow\n",
            "## EXPECTED PATTERN: red--yellow--yellow\n",
            " red\n",
            " yellow\n",
            " yellow\n"
          ]
        }
      ]
    },
    {
      "cell_type": "code",
      "source": [
        "#for i in tsks2: process_tsk(i, eng=\"text-ada-001\", len_out=3, study=\"S2\")\n",
        "#for i in tsks2: process_tsk(i, eng=\"text-babbage-001\",len_out=3, study=\"S2\")\n",
        "#for i in tsks2: process_tsk(i, eng=\"text-curie-001\",len_out=3, study=\"S2\")\n",
        "#for i in tsks2: process_tsk(i, eng=\"text-davinci-001\",len_out=3, study=\"S2\")\n",
        "#for i in tsks2: process_tsk(i, eng=\"text-davinci-002\",len_out=3, study=\"S2\")\n",
        "for i in tsks2: process_tsk(i, eng=\"text-davinci-003\",len_out=3, study=\"S2\")\n",
        "\n",
        "#for i in tsks2: process_tsk(i, eng=\"openai-gpt\", len_out=3, GPT=False, study=\"S2\")\n",
        "#for i in tsks2: process_tsk(i, eng=\"gpt2-xl\", len_out=3, GPT=False, study=\"S2\")\n",
        "#for i in tsks2: process_tsk(i, eng=\"bigscience/bloom\", len_out=3, GPT=False, study=\"S2\")\n"
      ],
      "metadata": {
        "id": "sGPLuAcJRMF-",
        "colab": {
          "base_uri": "https://localhost:8080/",
          "height": 1226
        },
        "outputId": "1189daf3-e363-4840-acf1-4aaada4193ba"
      },
      "execution_count": null,
      "outputs": [
        {
          "output_type": "stream",
          "name": "stdout",
          "text": [
            "================================= TASK #0 ================================= \n",
            "TASK: Father comes home from the grocery store. He bought bananas for banana bread. His daughter, Maria, helps him put away the shopping. She asks him: \"Where should I put the bananas?\" \"In the red drawer,\" says Father. \"Wait, I'll lift you up there, because you are too short,\" says Father, and lifts her up. Maria puts the bananas in the red drawer. Maria remembers exactly where she put the bananas so that she can come back and get one later. She loves bananas. Then, she leaves for school. While Maria is away, Father starts to prepare the banana bread and takes the bananas from the red drawer. He peels and slices one of them, but then he puts the rest of them back in the yellow drawer instead of the red one. He realizes that he is missing eggs. He leaves the kitchen and goes to see if their neighbor has some. \n",
            "REVERSED TASK: Father comes home from the grocery store. He bought bananas for banana bread. His daughter, Maria, helps him put away the shopping. She asks him: \"Where should I put the bananas?\" \"In the yellow drawer,\" says Father. \"Wait, I'll lift you up there, because you are too short,\" says Father, and lifts her up. Maria puts the bananas in the yellow drawer. Maria remembers exactly where she put the bananas so that she can come back and get one later. She loves bananas. Then, she leaves for school. While Maria is away, Father starts to prepare the banana bread and takes the bananas from the yellow drawer. He peels and slices one of them, but then he puts the rest of them back in the red drawer instead of the yellow one. He realizes that he is missing eggs. He leaves the kitchen and goes to see if their neighbor has some. \n",
            "PROMPT 1.1: The bananas are in the ______\n",
            "PROMPT 1.2: Maria thinks that the bananas are in the ______\n",
            "PROMPT 1.3: When Maria comes back, she will first look for the bananas in the ______\n",
            "=========================================================================== \n",
            "## EXPECTED PATTERN: yellow--red--red\n",
            "['yellow drawer now', 0.89]\n",
            "['red drawer when', 0.97]\n",
            "['red drawer,', 0.99]\n",
            "## EXPECTED PATTERN: red--yellow--yellow\n",
            "['red drawer now', 0.88]\n",
            "['yellow drawer,', 0.99]\n",
            "['yellow drawer,', 0.99]\n",
            "================================= TASK #1 ================================= \n",
            "TASK: Cecilia is about to bake a saffron cake for her son's birthday. In preparation, she places a small packet of very expensive saffron in the drawer, which is under the cupboard. As Cecilia sets out the other ingredients, the telephone in the living room rings. She leaves the kitchen to attend the call. She closes the door behind her and cannot see what is happening in the kitchen. While Cecilia is gone, her eight-year-old daughter, Pamela, creeps into the kitchen. Pamela is jealous about all the attention that her brother will be receiving on his birthday, so she quietly takes the packet of saffron from the drawer and hides it in the cupboard. She hopes that her mother will not be able to find it. \n",
            "REVERSED TASK: Cecilia is about to bake a saffron cake for her son's birthday. In preparation, she places a small packet of very expensive saffron in the cupboard, which is under the drawer. As Cecilia sets out the other ingredients, the telephone in the living room rings. She leaves the kitchen to attend the call. She closes the door behind her and cannot see what is happening in the kitchen. While Cecilia is gone, her eight-year-old daughter, Pamela, creeps into the kitchen. Pamela is jealous about all the attention that her brother will be receiving on his birthday, so she quietly takes the packet of saffron from the cupboard and hides it in the drawer. She hopes that her mother will not be able to find it. \n",
            "PROMPT 1.1: The saffron is in the ______\n",
            "PROMPT 1.2: Cecilia thinks that the saffron is in the ______\n",
            "PROMPT 1.3: When Cecilia comes back to the kitchen, she will first look for the saffron in the ______\n",
            "=========================================================================== \n",
            "## EXPECTED PATTERN: cupboard--drawer--drawer\n",
            "['cupboard when', 0.97]\n",
            "['drawer, but', 0.98]\n",
            "['drawer, but', 0.99]\n",
            "## EXPECTED PATTERN: drawer--cupboard--cupboard\n",
            "['drawer when Cec', 0.97]\n",
            "['cupboard,', 0.97]\n",
            "['cupboard,', 0.99]\n",
            "================================= TASK #2 ================================= \n",
            "TASK: It's the end of the day shift at a newsroom, and a reporter has almost finished writing an article on the office computer. There are two folders on the desktop screen: 'Drafts' and 'Edits.' Intending to complete the article the next day, she saves the article in 'Drafts' and leaves the newsroom. Soon she is at home and fast asleep. When the reporter is gone, the staff proofreader enters the office to begin his night shift. He browses through the two folders to see if there's anything he should work on. He notices that the article that the reporter wrote is an urgent piece that needs to be published as soon as possible. He decides to write the concluding paragraph and have it ready for the design team. After the article is finished and proofread, he moves it into the 'Edits' folder. The next day in the morning, the reporter wakes up. \n",
            "REVERSED TASK: It's the end of the day shift at a newsroom, and a reporter has almost finished writing an article on the office computer. There are two folders on the desktop screen: 'Edits' and 'Drafts.' Intending to complete the article the next day, she saves the article in 'Edits' and leaves the newsroom. Soon she is at home and fast asleep. When the reporter is gone, the staff proofreader enters the office to begin his night shift. He browses through the two folders to see if there's anything he should work on. He notices that the article that the reporter wrote is an urgent piece that needs to be published as soon as possible. He decides to write the concluding paragraph and have it ready for the design team. After the article is finished and proofread, he moves it into the 'Drafts' folder. The next day in the morning, the reporter wakes up. \n",
            "PROMPT 1.1: The article file is in the folder called ' ______\n",
            "PROMPT 1.2: The reporter thinks that the article file is in the folder called ' ______\n",
            "PROMPT 1.3: When the reporter comes back to work, she will first look for the article file in the folder called ' ______\n",
            "=========================================================================== \n",
            "## EXPECTED PATTERN: Edits--Drafts--Drafts\n",
            "[\"Edits'\", 1.0]\n",
            "[\"Drafts'\", 1.0]\n",
            "[\"Drafts.'\", 0.99]\n",
            "## EXPECTED PATTERN: Drafts--Edits--Edits\n",
            "[\"Drafts'\", 1.0]\n"
          ]
        },
        {
          "output_type": "error",
          "ename": "RateLimitError",
          "evalue": "ignored",
          "traceback": [
            "\u001b[0;31m---------------------------------------------------------------------------\u001b[0m",
            "\u001b[0;31mRateLimitError\u001b[0m                            Traceback (most recent call last)",
            "\u001b[0;32m<ipython-input-26-840a3042bb41>\u001b[0m in \u001b[0;36m<cell line: 6>\u001b[0;34m()\u001b[0m\n\u001b[1;32m      4\u001b[0m \u001b[0;31m#for i in tsks2: process_tsk(i, eng=\"text-davinci-001\",len_out=3, study=\"S2\")\u001b[0m\u001b[0;34m\u001b[0m\u001b[0;34m\u001b[0m\u001b[0m\n\u001b[1;32m      5\u001b[0m \u001b[0;31m#for i in tsks2: process_tsk(i, eng=\"text-davinci-002\",len_out=3, study=\"S2\")\u001b[0m\u001b[0;34m\u001b[0m\u001b[0;34m\u001b[0m\u001b[0m\n\u001b[0;32m----> 6\u001b[0;31m \u001b[0;32mfor\u001b[0m \u001b[0mi\u001b[0m \u001b[0;32min\u001b[0m \u001b[0mtsks2\u001b[0m\u001b[0;34m:\u001b[0m \u001b[0mprocess_tsk\u001b[0m\u001b[0;34m(\u001b[0m\u001b[0mi\u001b[0m\u001b[0;34m,\u001b[0m \u001b[0meng\u001b[0m\u001b[0;34m=\u001b[0m\u001b[0;34m\"text-davinci-003\"\u001b[0m\u001b[0;34m,\u001b[0m\u001b[0mlen_out\u001b[0m\u001b[0;34m=\u001b[0m\u001b[0;36m3\u001b[0m\u001b[0;34m,\u001b[0m \u001b[0mstudy\u001b[0m\u001b[0;34m=\u001b[0m\u001b[0;34m\"S2\"\u001b[0m\u001b[0;34m)\u001b[0m\u001b[0;34m\u001b[0m\u001b[0;34m\u001b[0m\u001b[0m\n\u001b[0m\u001b[1;32m      7\u001b[0m \u001b[0;34m\u001b[0m\u001b[0m\n\u001b[1;32m      8\u001b[0m \u001b[0;31m#for i in tsks2: process_tsk(i, eng=\"openai-gpt\", len_out=3, GPT=False, study=\"S2\")\u001b[0m\u001b[0;34m\u001b[0m\u001b[0;34m\u001b[0m\u001b[0m\n",
            "\u001b[0;32m<ipython-input-21-a139f7b35e7c>\u001b[0m in \u001b[0;36mprocess_tsk\u001b[0;34m(tsk, len_out, eng, GPT, study)\u001b[0m\n\u001b[1;32m     42\u001b[0m   \u001b[0;32mif\u001b[0m \u001b[0mGPT\u001b[0m\u001b[0;34m:\u001b[0m\u001b[0;34m\u001b[0m\u001b[0;34m\u001b[0m\u001b[0m\n\u001b[1;32m     43\u001b[0m     \u001b[0mprint\u001b[0m\u001b[0;34m(\u001b[0m\u001b[0mgpt3\u001b[0m\u001b[0;34m(\u001b[0m\u001b[0mengine\u001b[0m\u001b[0;34m=\u001b[0m\u001b[0meng\u001b[0m\u001b[0;34m,\u001b[0m \u001b[0mprompt\u001b[0m\u001b[0;34m=\u001b[0m\u001b[0mtxtr\u001b[0m\u001b[0;34m+\u001b[0m\u001b[0mq1\u001b[0m\u001b[0;34m,\u001b[0m \u001b[0mmax_tokens\u001b[0m\u001b[0;34m=\u001b[0m\u001b[0mlen_out\u001b[0m\u001b[0;34m,\u001b[0m\u001b[0mtemperature\u001b[0m\u001b[0;34m=\u001b[0m\u001b[0;36m0\u001b[0m\u001b[0;34m,\u001b[0m \u001b[0mlogprobs\u001b[0m\u001b[0;34m=\u001b[0m\u001b[0;36m2\u001b[0m\u001b[0;34m)\u001b[0m\u001b[0;34m)\u001b[0m\u001b[0;34m\u001b[0m\u001b[0;34m\u001b[0m\u001b[0m\n\u001b[0;32m---> 44\u001b[0;31m     \u001b[0mprint\u001b[0m\u001b[0;34m(\u001b[0m\u001b[0mgpt3\u001b[0m\u001b[0;34m(\u001b[0m\u001b[0mengine\u001b[0m\u001b[0;34m=\u001b[0m\u001b[0meng\u001b[0m\u001b[0;34m,\u001b[0m \u001b[0mprompt\u001b[0m\u001b[0;34m=\u001b[0m\u001b[0mtxtr\u001b[0m\u001b[0;34m+\u001b[0m\u001b[0mq2\u001b[0m\u001b[0;34m,\u001b[0m \u001b[0mmax_tokens\u001b[0m\u001b[0;34m=\u001b[0m\u001b[0mlen_out\u001b[0m\u001b[0;34m,\u001b[0m\u001b[0mtemperature\u001b[0m\u001b[0;34m=\u001b[0m\u001b[0;36m0\u001b[0m\u001b[0;34m,\u001b[0m \u001b[0mlogprobs\u001b[0m\u001b[0;34m=\u001b[0m\u001b[0;36m2\u001b[0m\u001b[0;34m)\u001b[0m\u001b[0;34m)\u001b[0m\u001b[0;34m\u001b[0m\u001b[0;34m\u001b[0m\u001b[0m\n\u001b[0m\u001b[1;32m     45\u001b[0m     \u001b[0mprint\u001b[0m\u001b[0;34m(\u001b[0m\u001b[0mgpt3\u001b[0m\u001b[0;34m(\u001b[0m\u001b[0mengine\u001b[0m\u001b[0;34m=\u001b[0m\u001b[0meng\u001b[0m\u001b[0;34m,\u001b[0m \u001b[0mprompt\u001b[0m\u001b[0;34m=\u001b[0m\u001b[0mtxtr\u001b[0m\u001b[0;34m+\u001b[0m\u001b[0mq3\u001b[0m\u001b[0;34m,\u001b[0m \u001b[0mmax_tokens\u001b[0m\u001b[0;34m=\u001b[0m\u001b[0mlen_out\u001b[0m\u001b[0;34m,\u001b[0m\u001b[0mtemperature\u001b[0m\u001b[0;34m=\u001b[0m\u001b[0;36m0\u001b[0m\u001b[0;34m,\u001b[0m \u001b[0mlogprobs\u001b[0m\u001b[0;34m=\u001b[0m\u001b[0;36m2\u001b[0m\u001b[0;34m)\u001b[0m\u001b[0;34m)\u001b[0m\u001b[0;34m\u001b[0m\u001b[0;34m\u001b[0m\u001b[0m\n\u001b[1;32m     46\u001b[0m   \u001b[0;32melse\u001b[0m\u001b[0;34m:\u001b[0m\u001b[0;34m\u001b[0m\u001b[0;34m\u001b[0m\u001b[0m\n",
            "\u001b[0;32m<ipython-input-9-40e8058ae563>\u001b[0m in \u001b[0;36mgpt3\u001b[0;34m(prompt, engine, logprobs, echo_probs, echo_response, temperature, **kwargs)\u001b[0m\n\u001b[1;32m      1\u001b[0m \u001b[0;31m#### Function for quering GPT-3 API\u001b[0m\u001b[0;34m\u001b[0m\u001b[0;34m\u001b[0m\u001b[0m\n\u001b[1;32m      2\u001b[0m \u001b[0;32mdef\u001b[0m \u001b[0mgpt3\u001b[0m\u001b[0;34m(\u001b[0m\u001b[0mprompt\u001b[0m\u001b[0;34m,\u001b[0m \u001b[0mengine\u001b[0m\u001b[0;34m=\u001b[0m\u001b[0;34m\"text-davinci-003\"\u001b[0m\u001b[0;34m,\u001b[0m \u001b[0mlogprobs\u001b[0m\u001b[0;34m=\u001b[0m\u001b[0;36m1\u001b[0m\u001b[0;34m,\u001b[0m \u001b[0mecho_probs\u001b[0m\u001b[0;34m=\u001b[0m\u001b[0;32mFalse\u001b[0m\u001b[0;34m,\u001b[0m \u001b[0mecho_response\u001b[0m\u001b[0;34m=\u001b[0m\u001b[0;32mFalse\u001b[0m\u001b[0;34m,\u001b[0m \u001b[0mtemperature\u001b[0m\u001b[0;34m=\u001b[0m\u001b[0;36m0\u001b[0m\u001b[0;34m,\u001b[0m \u001b[0;34m**\u001b[0m\u001b[0mkwargs\u001b[0m\u001b[0;34m)\u001b[0m\u001b[0;34m:\u001b[0m\u001b[0;34m\u001b[0m\u001b[0;34m\u001b[0m\u001b[0m\n\u001b[0;32m----> 3\u001b[0;31m   \u001b[0mout\u001b[0m\u001b[0;34m=\u001b[0m\u001b[0mopenai\u001b[0m\u001b[0;34m.\u001b[0m\u001b[0mCompletion\u001b[0m\u001b[0;34m.\u001b[0m\u001b[0mcreate\u001b[0m\u001b[0;34m(\u001b[0m\u001b[0mprompt\u001b[0m\u001b[0;34m=\u001b[0m\u001b[0mprompt\u001b[0m\u001b[0;34m,\u001b[0m \u001b[0mengine\u001b[0m\u001b[0;34m=\u001b[0m\u001b[0mengine\u001b[0m\u001b[0;34m,\u001b[0m \u001b[0mlogprobs\u001b[0m\u001b[0;34m=\u001b[0m\u001b[0mlogprobs\u001b[0m\u001b[0;34m,\u001b[0m \u001b[0mtemperature\u001b[0m\u001b[0;34m=\u001b[0m\u001b[0mtemperature\u001b[0m\u001b[0;34m,\u001b[0m \u001b[0;34m**\u001b[0m\u001b[0mkwargs\u001b[0m\u001b[0;34m)\u001b[0m\u001b[0;34m\u001b[0m\u001b[0;34m\u001b[0m\u001b[0m\n\u001b[0m\u001b[1;32m      4\u001b[0m   \u001b[0;32mif\u001b[0m \u001b[0mecho_probs\u001b[0m \u001b[0;32mand\u001b[0m \u001b[0mlogprobs\u001b[0m\u001b[0;34m>\u001b[0m\u001b[0;36m0\u001b[0m\u001b[0;34m:\u001b[0m\u001b[0;34m\u001b[0m\u001b[0;34m\u001b[0m\u001b[0m\n\u001b[1;32m      5\u001b[0m      \u001b[0mx\u001b[0m\u001b[0;34m=\u001b[0m\u001b[0mout\u001b[0m\u001b[0;34m.\u001b[0m\u001b[0mchoices\u001b[0m\u001b[0;34m[\u001b[0m\u001b[0;36m0\u001b[0m\u001b[0;34m]\u001b[0m\u001b[0;34m[\u001b[0m\u001b[0;34m\"logprobs\"\u001b[0m\u001b[0;34m]\u001b[0m\u001b[0;34m[\u001b[0m\u001b[0;34m\"top_logprobs\"\u001b[0m\u001b[0;34m]\u001b[0m\u001b[0;34m[\u001b[0m\u001b[0;36m0\u001b[0m\u001b[0;34m]\u001b[0m\u001b[0;34m\u001b[0m\u001b[0;34m\u001b[0m\u001b[0m\n",
            "\u001b[0;32m/usr/local/lib/python3.9/dist-packages/openai/api_resources/completion.py\u001b[0m in \u001b[0;36mcreate\u001b[0;34m(cls, *args, **kwargs)\u001b[0m\n\u001b[1;32m     23\u001b[0m         \u001b[0;32mwhile\u001b[0m \u001b[0;32mTrue\u001b[0m\u001b[0;34m:\u001b[0m\u001b[0;34m\u001b[0m\u001b[0;34m\u001b[0m\u001b[0m\n\u001b[1;32m     24\u001b[0m             \u001b[0;32mtry\u001b[0m\u001b[0;34m:\u001b[0m\u001b[0;34m\u001b[0m\u001b[0;34m\u001b[0m\u001b[0m\n\u001b[0;32m---> 25\u001b[0;31m                 \u001b[0;32mreturn\u001b[0m \u001b[0msuper\u001b[0m\u001b[0;34m(\u001b[0m\u001b[0;34m)\u001b[0m\u001b[0;34m.\u001b[0m\u001b[0mcreate\u001b[0m\u001b[0;34m(\u001b[0m\u001b[0;34m*\u001b[0m\u001b[0margs\u001b[0m\u001b[0;34m,\u001b[0m \u001b[0;34m**\u001b[0m\u001b[0mkwargs\u001b[0m\u001b[0;34m)\u001b[0m\u001b[0;34m\u001b[0m\u001b[0;34m\u001b[0m\u001b[0m\n\u001b[0m\u001b[1;32m     26\u001b[0m             \u001b[0;32mexcept\u001b[0m \u001b[0mTryAgain\u001b[0m \u001b[0;32mas\u001b[0m \u001b[0me\u001b[0m\u001b[0;34m:\u001b[0m\u001b[0;34m\u001b[0m\u001b[0;34m\u001b[0m\u001b[0m\n\u001b[1;32m     27\u001b[0m                 \u001b[0;32mif\u001b[0m \u001b[0mtimeout\u001b[0m \u001b[0;32mis\u001b[0m \u001b[0;32mnot\u001b[0m \u001b[0;32mNone\u001b[0m \u001b[0;32mand\u001b[0m \u001b[0mtime\u001b[0m\u001b[0;34m.\u001b[0m\u001b[0mtime\u001b[0m\u001b[0;34m(\u001b[0m\u001b[0;34m)\u001b[0m \u001b[0;34m>\u001b[0m \u001b[0mstart\u001b[0m \u001b[0;34m+\u001b[0m \u001b[0mtimeout\u001b[0m\u001b[0;34m:\u001b[0m\u001b[0;34m\u001b[0m\u001b[0;34m\u001b[0m\u001b[0m\n",
            "\u001b[0;32m/usr/local/lib/python3.9/dist-packages/openai/api_resources/abstract/engine_api_resource.py\u001b[0m in \u001b[0;36mcreate\u001b[0;34m(cls, api_key, api_base, api_type, request_id, api_version, organization, **params)\u001b[0m\n\u001b[1;32m    151\u001b[0m         )\n\u001b[1;32m    152\u001b[0m \u001b[0;34m\u001b[0m\u001b[0m\n\u001b[0;32m--> 153\u001b[0;31m         response, _, api_key = requestor.request(\n\u001b[0m\u001b[1;32m    154\u001b[0m             \u001b[0;34m\"post\"\u001b[0m\u001b[0;34m,\u001b[0m\u001b[0;34m\u001b[0m\u001b[0;34m\u001b[0m\u001b[0m\n\u001b[1;32m    155\u001b[0m             \u001b[0murl\u001b[0m\u001b[0;34m,\u001b[0m\u001b[0;34m\u001b[0m\u001b[0;34m\u001b[0m\u001b[0m\n",
            "\u001b[0;32m/usr/local/lib/python3.9/dist-packages/openai/api_requestor.py\u001b[0m in \u001b[0;36mrequest\u001b[0;34m(self, method, url, params, headers, files, stream, request_id, request_timeout)\u001b[0m\n\u001b[1;32m    224\u001b[0m             \u001b[0mrequest_timeout\u001b[0m\u001b[0;34m=\u001b[0m\u001b[0mrequest_timeout\u001b[0m\u001b[0;34m,\u001b[0m\u001b[0;34m\u001b[0m\u001b[0;34m\u001b[0m\u001b[0m\n\u001b[1;32m    225\u001b[0m         )\n\u001b[0;32m--> 226\u001b[0;31m         \u001b[0mresp\u001b[0m\u001b[0;34m,\u001b[0m \u001b[0mgot_stream\u001b[0m \u001b[0;34m=\u001b[0m \u001b[0mself\u001b[0m\u001b[0;34m.\u001b[0m\u001b[0m_interpret_response\u001b[0m\u001b[0;34m(\u001b[0m\u001b[0mresult\u001b[0m\u001b[0;34m,\u001b[0m \u001b[0mstream\u001b[0m\u001b[0;34m)\u001b[0m\u001b[0;34m\u001b[0m\u001b[0;34m\u001b[0m\u001b[0m\n\u001b[0m\u001b[1;32m    227\u001b[0m         \u001b[0;32mreturn\u001b[0m \u001b[0mresp\u001b[0m\u001b[0;34m,\u001b[0m \u001b[0mgot_stream\u001b[0m\u001b[0;34m,\u001b[0m \u001b[0mself\u001b[0m\u001b[0;34m.\u001b[0m\u001b[0mapi_key\u001b[0m\u001b[0;34m\u001b[0m\u001b[0;34m\u001b[0m\u001b[0m\n\u001b[1;32m    228\u001b[0m \u001b[0;34m\u001b[0m\u001b[0m\n",
            "\u001b[0;32m/usr/local/lib/python3.9/dist-packages/openai/api_requestor.py\u001b[0m in \u001b[0;36m_interpret_response\u001b[0;34m(self, result, stream)\u001b[0m\n\u001b[1;32m    618\u001b[0m         \u001b[0;32melse\u001b[0m\u001b[0;34m:\u001b[0m\u001b[0;34m\u001b[0m\u001b[0;34m\u001b[0m\u001b[0m\n\u001b[1;32m    619\u001b[0m             return (\n\u001b[0;32m--> 620\u001b[0;31m                 self._interpret_response_line(\n\u001b[0m\u001b[1;32m    621\u001b[0m                     \u001b[0mresult\u001b[0m\u001b[0;34m.\u001b[0m\u001b[0mcontent\u001b[0m\u001b[0;34m.\u001b[0m\u001b[0mdecode\u001b[0m\u001b[0;34m(\u001b[0m\u001b[0;34m\"utf-8\"\u001b[0m\u001b[0;34m)\u001b[0m\u001b[0;34m,\u001b[0m\u001b[0;34m\u001b[0m\u001b[0;34m\u001b[0m\u001b[0m\n\u001b[1;32m    622\u001b[0m                     \u001b[0mresult\u001b[0m\u001b[0;34m.\u001b[0m\u001b[0mstatus_code\u001b[0m\u001b[0;34m,\u001b[0m\u001b[0;34m\u001b[0m\u001b[0;34m\u001b[0m\u001b[0m\n",
            "\u001b[0;32m/usr/local/lib/python3.9/dist-packages/openai/api_requestor.py\u001b[0m in \u001b[0;36m_interpret_response_line\u001b[0;34m(self, rbody, rcode, rheaders, stream)\u001b[0m\n\u001b[1;32m    681\u001b[0m         \u001b[0mstream_error\u001b[0m \u001b[0;34m=\u001b[0m \u001b[0mstream\u001b[0m \u001b[0;32mand\u001b[0m \u001b[0;34m\"error\"\u001b[0m \u001b[0;32min\u001b[0m \u001b[0mresp\u001b[0m\u001b[0;34m.\u001b[0m\u001b[0mdata\u001b[0m\u001b[0;34m\u001b[0m\u001b[0;34m\u001b[0m\u001b[0m\n\u001b[1;32m    682\u001b[0m         \u001b[0;32mif\u001b[0m \u001b[0mstream_error\u001b[0m \u001b[0;32mor\u001b[0m \u001b[0;32mnot\u001b[0m \u001b[0;36m200\u001b[0m \u001b[0;34m<=\u001b[0m \u001b[0mrcode\u001b[0m \u001b[0;34m<\u001b[0m \u001b[0;36m300\u001b[0m\u001b[0;34m:\u001b[0m\u001b[0;34m\u001b[0m\u001b[0;34m\u001b[0m\u001b[0m\n\u001b[0;32m--> 683\u001b[0;31m             raise self.handle_error_response(\n\u001b[0m\u001b[1;32m    684\u001b[0m                 \u001b[0mrbody\u001b[0m\u001b[0;34m,\u001b[0m \u001b[0mrcode\u001b[0m\u001b[0;34m,\u001b[0m \u001b[0mresp\u001b[0m\u001b[0;34m.\u001b[0m\u001b[0mdata\u001b[0m\u001b[0;34m,\u001b[0m \u001b[0mrheaders\u001b[0m\u001b[0;34m,\u001b[0m \u001b[0mstream_error\u001b[0m\u001b[0;34m=\u001b[0m\u001b[0mstream_error\u001b[0m\u001b[0;34m\u001b[0m\u001b[0;34m\u001b[0m\u001b[0m\n\u001b[1;32m    685\u001b[0m             )\n",
            "\u001b[0;31mRateLimitError\u001b[0m: Rate limit reached for default-text-davinci-003 in organization org-tpHU8f2o9qZMtv7sEN1xDzCs on requests per min. Limit: 60 / min. Please try again in 1s. Contact support@openai.com if you continue to have issues. Please add a payment method to your account to increase your rate limit. Visit https://platform.openai.com/account/billing to add a payment method."
          ]
        }
      ]
    }
  ]
}